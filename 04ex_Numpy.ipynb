{
 "cells": [
  {
   "cell_type": "markdown",
   "metadata": {},
   "source": [
    "### Numpy basics"
   ]
  },
  {
   "cell_type": "code",
   "execution_count": 1,
   "metadata": {},
   "outputs": [],
   "source": [
    "import numpy as np"
   ]
  },
  {
   "cell_type": "markdown",
   "metadata": {},
   "source": [
    "1\\. Find the row, column and overall means for the following matrix:\n",
    "\n",
    "```python\n",
    "m = np.arange(12).reshape((3,4))\n",
    "```"
   ]
  },
  {
   "cell_type": "code",
   "execution_count": 2,
   "metadata": {},
   "outputs": [
    {
     "data": {
      "text/plain": [
       "array([[ 0,  1,  2,  3],\n",
       "       [ 4,  5,  6,  7],\n",
       "       [ 8,  9, 10, 11]])"
      ]
     },
     "execution_count": 2,
     "metadata": {},
     "output_type": "execute_result"
    }
   ],
   "source": [
    "m = np.arange(12).reshape((3,4))\n",
    "m"
   ]
  },
  {
   "cell_type": "code",
   "execution_count": 3,
   "metadata": {},
   "outputs": [
    {
     "data": {
      "text/plain": [
       "array([1.5, 5.5, 9.5])"
      ]
     },
     "execution_count": 3,
     "metadata": {},
     "output_type": "execute_result"
    }
   ],
   "source": [
    "# row means\n",
    "row_means=np.zeros(m.shape[0])\n",
    "for i in range(0, m.shape[0]):\n",
    "    row_means[i]=np.mean(m[i,:])\n",
    "row_means"
   ]
  },
  {
   "cell_type": "code",
   "execution_count": 4,
   "metadata": {},
   "outputs": [
    {
     "data": {
      "text/plain": [
       "5.5"
      ]
     },
     "execution_count": 4,
     "metadata": {},
     "output_type": "execute_result"
    }
   ],
   "source": [
    "row_means.mean()"
   ]
  },
  {
   "cell_type": "code",
   "execution_count": 5,
   "metadata": {},
   "outputs": [
    {
     "data": {
      "text/plain": [
       "array([4., 5., 6., 7.])"
      ]
     },
     "execution_count": 5,
     "metadata": {},
     "output_type": "execute_result"
    }
   ],
   "source": [
    "# column means\n",
    "col_means=np.zeros(m.shape[1])\n",
    "for i in range(0, m.shape[1]):\n",
    "    col_means[i]=np.mean(m[:,i])\n",
    "col_means"
   ]
  },
  {
   "cell_type": "code",
   "execution_count": 6,
   "metadata": {},
   "outputs": [
    {
     "data": {
      "text/plain": [
       "5.5"
      ]
     },
     "execution_count": 6,
     "metadata": {},
     "output_type": "execute_result"
    }
   ],
   "source": [
    "col_means.mean()"
   ]
  },
  {
   "cell_type": "code",
   "execution_count": 7,
   "metadata": {},
   "outputs": [
    {
     "data": {
      "text/plain": [
       "((3, 4), 5.5)"
      ]
     },
     "execution_count": 7,
     "metadata": {},
     "output_type": "execute_result"
    }
   ],
   "source": [
    "m.shape, np.mean(m)"
   ]
  },
  {
   "cell_type": "markdown",
   "metadata": {},
   "source": [
    "2\\. Find the outer product of the following two vecotrs\n",
    "\n",
    "```python\n",
    "u = np.array([1,3,5,7])\n",
    "v = np.array([2,4,6,8])\n",
    "```\n",
    "\n",
    "Do this in the following ways:\n",
    "\n",
    "   * Using the function outer in numpy\n",
    "   * Using a nested for loop or list comprehension\n",
    "   * Using numpy broadcasting operatoins\n"
   ]
  },
  {
   "cell_type": "code",
   "execution_count": 8,
   "metadata": {},
   "outputs": [],
   "source": [
    "u = np.array([1,3,5,7])\n",
    "v = np.array([2,4,6,8])"
   ]
  },
  {
   "cell_type": "code",
   "execution_count": 9,
   "metadata": {},
   "outputs": [
    {
     "data": {
      "text/plain": [
       "array([[ 2,  4,  6,  8],\n",
       "       [ 6, 12, 18, 24],\n",
       "       [10, 20, 30, 40],\n",
       "       [14, 28, 42, 56]])"
      ]
     },
     "execution_count": 9,
     "metadata": {},
     "output_type": "execute_result"
    }
   ],
   "source": [
    "#with function outer\n",
    "a=np.outer(u,v)\n",
    "a"
   ]
  },
  {
   "cell_type": "code",
   "execution_count": 10,
   "metadata": {},
   "outputs": [
    {
     "data": {
      "text/plain": [
       "array([[ 2.,  4.,  6.,  8.],\n",
       "       [ 6., 12., 18., 24.],\n",
       "       [10., 20., 30., 40.],\n",
       "       [14., 28., 42., 56.]])"
      ]
     },
     "execution_count": 10,
     "metadata": {},
     "output_type": "execute_result"
    }
   ],
   "source": [
    "#nested loop\n",
    "out=np.zeros((u.size,v.size))\n",
    "for i in range(0,u.size):\n",
    "    for j in range(0,v.size):\n",
    "        out[i,j]=u[i]*v[j]\n",
    "out"
   ]
  },
  {
   "cell_type": "code",
   "execution_count": 11,
   "metadata": {},
   "outputs": [
    {
     "data": {
      "text/plain": [
       "array([[ 2,  6, 10, 14],\n",
       "       [ 4, 12, 20, 28],\n",
       "       [ 6, 18, 30, 42],\n",
       "       [ 8, 24, 40, 56]])"
      ]
     },
     "execution_count": 11,
     "metadata": {},
     "output_type": "execute_result"
    }
   ],
   "source": [
    "#broadcasting\n",
    "u2=u.reshape(1,u.size)\n",
    "v2=v.reshape(u.size,1)\n",
    "u*v2"
   ]
  },
  {
   "cell_type": "markdown",
   "metadata": {},
   "source": [
    "3\\. Create a 10 by 6 matrix of random uniform numbers. Set all rows with any entry less than 0.1 to be zero\n",
    "\n",
    "Hint: Use the following numpy functions - np.random.random, np.any as well as Boolean indexing and the axis argument."
   ]
  },
  {
   "cell_type": "code",
   "execution_count": 12,
   "metadata": {},
   "outputs": [
    {
     "data": {
      "text/plain": [
       "array([[0.56556924, 0.94914389, 0.45250525, 0.79885914, 0.44398473,\n",
       "        0.01041104],\n",
       "       [0.15614585, 0.06201876, 0.45694398, 0.08670012, 0.41446231,\n",
       "        0.05195166],\n",
       "       [0.27383766, 0.92230512, 0.76302414, 0.40545006, 0.67626144,\n",
       "        0.98651225],\n",
       "       [0.78289407, 0.78350236, 0.66900735, 0.28508402, 0.09466331,\n",
       "        0.47016774],\n",
       "       [0.42691154, 0.3443936 , 0.08508287, 0.52507615, 0.10905709,\n",
       "        0.33880178],\n",
       "       [0.20340163, 0.92978333, 0.70194738, 0.24813958, 0.43157133,\n",
       "        0.57476209],\n",
       "       [0.74811641, 0.34313347, 0.18719626, 0.14186235, 0.47476193,\n",
       "        0.02289378],\n",
       "       [0.97457848, 0.45282059, 0.95692702, 0.01014449, 0.48788247,\n",
       "        0.80228064],\n",
       "       [0.3644324 , 0.22039196, 0.06971272, 0.00902109, 0.34863966,\n",
       "        0.30898493],\n",
       "       [0.23862358, 0.7707723 , 0.15948822, 0.15830626, 0.38781738,\n",
       "        0.57882813]])"
      ]
     },
     "execution_count": 12,
     "metadata": {},
     "output_type": "execute_result"
    }
   ],
   "source": [
    "rndm=np.random.rand(10,6)\n",
    "rndm"
   ]
  },
  {
   "cell_type": "code",
   "execution_count": 13,
   "metadata": {},
   "outputs": [],
   "source": [
    "#cond=rndm>0.1"
   ]
  },
  {
   "cell_type": "code",
   "execution_count": 14,
   "metadata": {},
   "outputs": [],
   "source": [
    "#np.where(cond, rndm, 0)"
   ]
  },
  {
   "cell_type": "code",
   "execution_count": 15,
   "metadata": {},
   "outputs": [
    {
     "data": {
      "text/plain": [
       "array([[0.        , 0.        , 0.        , 0.        , 0.        ,\n",
       "        0.        ],\n",
       "       [0.        , 0.        , 0.        , 0.        , 0.        ,\n",
       "        0.        ],\n",
       "       [0.27383766, 0.92230512, 0.76302414, 0.40545006, 0.67626144,\n",
       "        0.98651225],\n",
       "       [0.        , 0.        , 0.        , 0.        , 0.        ,\n",
       "        0.        ],\n",
       "       [0.        , 0.        , 0.        , 0.        , 0.        ,\n",
       "        0.        ],\n",
       "       [0.20340163, 0.92978333, 0.70194738, 0.24813958, 0.43157133,\n",
       "        0.57476209],\n",
       "       [0.        , 0.        , 0.        , 0.        , 0.        ,\n",
       "        0.        ],\n",
       "       [0.        , 0.        , 0.        , 0.        , 0.        ,\n",
       "        0.        ],\n",
       "       [0.        , 0.        , 0.        , 0.        , 0.        ,\n",
       "        0.        ],\n",
       "       [0.23862358, 0.7707723 , 0.15948822, 0.15830626, 0.38781738,\n",
       "        0.57882813]])"
      ]
     },
     "execution_count": 15,
     "metadata": {},
     "output_type": "execute_result"
    }
   ],
   "source": [
    "kk=np.any(rndm<0.1, axis=1)\n",
    "for i in range(0,np.size(kk)):\n",
    "    if kk[i]==True:\n",
    "        rndm[i]=0\n",
    "rndm"
   ]
  },
  {
   "cell_type": "markdown",
   "metadata": {},
   "source": [
    "4\\. Use np.linspace to create an array of 100 numbers between 0 and 2π (includsive).\n",
    "\n",
    "  * Extract every 10th element using slice notation\n",
    "  * Reverse the array using slice notation\n",
    "  * Extract elements where the absolute difference between the sine and cosine functions evaluated at that element is less than 0.1\n",
    "  * Make a plot showing the sin and cos functions and indicate where they are close"
   ]
  },
  {
   "cell_type": "code",
   "execution_count": 16,
   "metadata": {},
   "outputs": [
    {
     "data": {
      "text/plain": [
       "array([0.        , 0.06346652, 0.12693304, 0.19039955, 0.25386607,\n",
       "       0.31733259, 0.38079911, 0.44426563, 0.50773215, 0.57119866,\n",
       "       0.63466518, 0.6981317 , 0.76159822, 0.82506474, 0.88853126,\n",
       "       0.95199777, 1.01546429, 1.07893081, 1.14239733, 1.20586385,\n",
       "       1.26933037, 1.33279688, 1.3962634 , 1.45972992, 1.52319644,\n",
       "       1.58666296, 1.65012947, 1.71359599, 1.77706251, 1.84052903,\n",
       "       1.90399555, 1.96746207, 2.03092858, 2.0943951 , 2.15786162,\n",
       "       2.22132814, 2.28479466, 2.34826118, 2.41172769, 2.47519421,\n",
       "       2.53866073, 2.60212725, 2.66559377, 2.72906028, 2.7925268 ,\n",
       "       2.85599332, 2.91945984, 2.98292636, 3.04639288, 3.10985939,\n",
       "       3.17332591, 3.23679243, 3.30025895, 3.36372547, 3.42719199,\n",
       "       3.4906585 , 3.55412502, 3.61759154, 3.68105806, 3.74452458,\n",
       "       3.8079911 , 3.87145761, 3.93492413, 3.99839065, 4.06185717,\n",
       "       4.12532369, 4.1887902 , 4.25225672, 4.31572324, 4.37918976,\n",
       "       4.44265628, 4.5061228 , 4.56958931, 4.63305583, 4.69652235,\n",
       "       4.75998887, 4.82345539, 4.88692191, 4.95038842, 5.01385494,\n",
       "       5.07732146, 5.14078798, 5.2042545 , 5.26772102, 5.33118753,\n",
       "       5.39465405, 5.45812057, 5.52158709, 5.58505361, 5.64852012,\n",
       "       5.71198664, 5.77545316, 5.83891968, 5.9023862 , 5.96585272,\n",
       "       6.02931923, 6.09278575, 6.15625227, 6.21971879, 6.28318531])"
      ]
     },
     "execution_count": 16,
     "metadata": {},
     "output_type": "execute_result"
    }
   ],
   "source": [
    "#create array\n",
    "a=np.linspace(0, 2*np.pi, 100)\n",
    "a"
   ]
  },
  {
   "cell_type": "code",
   "execution_count": 17,
   "metadata": {},
   "outputs": [
    {
     "data": {
      "text/plain": [
       "array([0.57119866, 1.20586385, 1.84052903, 2.47519421, 3.10985939,\n",
       "       3.74452458, 4.37918976, 5.01385494, 5.64852012, 6.28318531])"
      ]
     },
     "execution_count": 17,
     "metadata": {},
     "output_type": "execute_result"
    }
   ],
   "source": [
    "#extract every 10 element with slice notation\n",
    "b=a[9:100:10]\n",
    "b"
   ]
  },
  {
   "cell_type": "code",
   "execution_count": 18,
   "metadata": {},
   "outputs": [
    {
     "data": {
      "text/plain": [
       "array([6.28318531, 6.21971879, 6.15625227, 6.09278575, 6.02931923,\n",
       "       5.96585272, 5.9023862 , 5.83891968, 5.77545316, 5.71198664,\n",
       "       5.64852012, 5.58505361, 5.52158709, 5.45812057, 5.39465405,\n",
       "       5.33118753, 5.26772102, 5.2042545 , 5.14078798, 5.07732146,\n",
       "       5.01385494, 4.95038842, 4.88692191, 4.82345539, 4.75998887,\n",
       "       4.69652235, 4.63305583, 4.56958931, 4.5061228 , 4.44265628,\n",
       "       4.37918976, 4.31572324, 4.25225672, 4.1887902 , 4.12532369,\n",
       "       4.06185717, 3.99839065, 3.93492413, 3.87145761, 3.8079911 ,\n",
       "       3.74452458, 3.68105806, 3.61759154, 3.55412502, 3.4906585 ,\n",
       "       3.42719199, 3.36372547, 3.30025895, 3.23679243, 3.17332591,\n",
       "       3.10985939, 3.04639288, 2.98292636, 2.91945984, 2.85599332,\n",
       "       2.7925268 , 2.72906028, 2.66559377, 2.60212725, 2.53866073,\n",
       "       2.47519421, 2.41172769, 2.34826118, 2.28479466, 2.22132814,\n",
       "       2.15786162, 2.0943951 , 2.03092858, 1.96746207, 1.90399555,\n",
       "       1.84052903, 1.77706251, 1.71359599, 1.65012947, 1.58666296,\n",
       "       1.52319644, 1.45972992, 1.3962634 , 1.33279688, 1.26933037,\n",
       "       1.20586385, 1.14239733, 1.07893081, 1.01546429, 0.95199777,\n",
       "       0.88853126, 0.82506474, 0.76159822, 0.6981317 , 0.63466518,\n",
       "       0.57119866, 0.50773215, 0.44426563, 0.38079911, 0.31733259,\n",
       "       0.25386607, 0.19039955, 0.12693304, 0.06346652])"
      ]
     },
     "execution_count": 18,
     "metadata": {},
     "output_type": "execute_result"
    }
   ],
   "source": [
    "#reverse the array using slice notation\n",
    "c=a[100:0:-1]\n",
    "c"
   ]
  },
  {
   "cell_type": "code",
   "execution_count": 19,
   "metadata": {},
   "outputs": [
    {
     "data": {
      "text/plain": [
       "array([0.76159822, 0.82506474, 3.87145761, 3.93492413])"
      ]
     },
     "execution_count": 19,
     "metadata": {},
     "output_type": "execute_result"
    }
   ],
   "source": [
    "#Extract elements where the absolute difference between the sine and cosine functions evaluated at that element is less than 0.1\n",
    "d=a[np.abs(np.sin(a)-np.cos(a))<0.1]\n",
    "d"
   ]
  },
  {
   "cell_type": "code",
   "execution_count": 20,
   "metadata": {},
   "outputs": [
    {
     "data": {
      "image/png": "[encoded data removed]",
      "text/plain": [
       "<Figure size 640x480 with 1 Axes>"
      ]
     },
     "metadata": {},
     "output_type": "display_data"
    },
    {
     "name": "stdout",
     "output_type": "stream",
     "text": [
      "The sin and cos graphs are close at:  [0.76159822 0.82506474 3.87145761 3.93492413]\n"
     ]
    }
   ],
   "source": [
    "#Make a plot showing the sin and cos functions and indicate where they are close\n",
    "import matplotlib.pyplot as plt\n",
    "%matplotlib inline \n",
    "x = a\n",
    "y1 = np.sin(a)\n",
    "y2 = np.cos(a)\n",
    "plt.plot(x,y1,label=\"sin(x)\")\n",
    "plt.plot(x,y2,label=\"cos(x)\")\n",
    "\n",
    "plt.legend()\n",
    "plt.xlabel(\"x values from 0 to 2*pi\")\n",
    "plt.ylabel(\"sin and cos\")\n",
    "plt.show()\n",
    "print(\"The sin and cos graphs are close at: \",d)\n"
   ]
  },
  {
   "cell_type": "markdown",
   "metadata": {},
   "source": [
    "5\\. Create a matrix that shows the 10 by 10 multiplication table.\n",
    "\n",
    " * Find the trace of the matrix\n",
    " * Extract the anto-diagonal (this should be ```array([10, 18, 24, 28, 30, 30, 28, 24, 18, 10])```)\n",
    " * Extract the diagnoal offset by 1 upwards (this should be ```array([ 2,  6, 12, 20, 30, 42, 56, 72, 90])```)"
   ]
  },
  {
   "cell_type": "code",
   "execution_count": 21,
   "metadata": {},
   "outputs": [
    {
     "data": {
      "text/plain": [
       "array([[  1.,   2.,   3.,   4.,   5.,   6.,   7.,   8.,   9.,  10.],\n",
       "       [  2.,   4.,   6.,   8.,  10.,  12.,  14.,  16.,  18.,  20.],\n",
       "       [  3.,   6.,   9.,  12.,  15.,  18.,  21.,  24.,  27.,  30.],\n",
       "       [  4.,   8.,  12.,  16.,  20.,  24.,  28.,  32.,  36.,  40.],\n",
       "       [  5.,  10.,  15.,  20.,  25.,  30.,  35.,  40.,  45.,  50.],\n",
       "       [  6.,  12.,  18.,  24.,  30.,  36.,  42.,  48.,  54.,  60.],\n",
       "       [  7.,  14.,  21.,  28.,  35.,  42.,  49.,  56.,  63.,  70.],\n",
       "       [  8.,  16.,  24.,  32.,  40.,  48.,  56.,  64.,  72.,  80.],\n",
       "       [  9.,  18.,  27.,  36.,  45.,  54.,  63.,  72.,  81.,  90.],\n",
       "       [ 10.,  20.,  30.,  40.,  50.,  60.,  70.,  80.,  90., 100.]])"
      ]
     },
     "execution_count": 21,
     "metadata": {},
     "output_type": "execute_result"
    }
   ],
   "source": [
    "matrix=np.zeros((10,10))\n",
    "for i in range(0,10):\n",
    "    for j in range(0,10):\n",
    "        matrix[i,j]=(i+1)*(j+1)\n",
    "matrix"
   ]
  },
  {
   "cell_type": "code",
   "execution_count": 22,
   "metadata": {},
   "outputs": [
    {
     "data": {
      "text/plain": [
       "array([[  1,   2,   3,   4,   5,   6,   7,   8,   9,  10],\n",
       "       [  2,   4,   6,   8,  10,  12,  14,  16,  18,  20],\n",
       "       [  3,   6,   9,  12,  15,  18,  21,  24,  27,  30],\n",
       "       [  4,   8,  12,  16,  20,  24,  28,  32,  36,  40],\n",
       "       [  5,  10,  15,  20,  25,  30,  35,  40,  45,  50],\n",
       "       [  6,  12,  18,  24,  30,  36,  42,  48,  54,  60],\n",
       "       [  7,  14,  21,  28,  35,  42,  49,  56,  63,  70],\n",
       "       [  8,  16,  24,  32,  40,  48,  56,  64,  72,  80],\n",
       "       [  9,  18,  27,  36,  45,  54,  63,  72,  81,  90],\n",
       "       [ 10,  20,  30,  40,  50,  60,  70,  80,  90, 100]])"
      ]
     },
     "execution_count": 22,
     "metadata": {},
     "output_type": "execute_result"
    }
   ],
   "source": [
    "n = np.arange(1,11,1)\n",
    "M = np.outer(n,n)\n",
    "M"
   ]
  },
  {
   "cell_type": "code",
   "execution_count": 23,
   "metadata": {},
   "outputs": [
    {
     "data": {
      "text/plain": [
       "385"
      ]
     },
     "execution_count": 23,
     "metadata": {},
     "output_type": "execute_result"
    }
   ],
   "source": [
    "#trace of the matrix\n",
    "np.trace(M)"
   ]
  },
  {
   "cell_type": "code",
   "execution_count": 24,
   "metadata": {},
   "outputs": [
    {
     "data": {
      "text/plain": [
       "array([10, 18, 24, 28, 30, 30, 28, 24, 18, 10])"
      ]
     },
     "execution_count": 24,
     "metadata": {},
     "output_type": "execute_result"
    }
   ],
   "source": [
    "#extract the antodiagonal\n",
    "np.diag(np.fliplr(M))"
   ]
  },
  {
   "cell_type": "code",
   "execution_count": 25,
   "metadata": {},
   "outputs": [
    {
     "data": {
      "text/plain": [
       "array([ 2,  6, 12, 20, 30, 42, 56, 72, 90])"
      ]
     },
     "execution_count": 25,
     "metadata": {},
     "output_type": "execute_result"
    }
   ],
   "source": [
    "#Extract the diagonal offset by 1 upwards\n",
    "np.diag(M,1)"
   ]
  },
  {
   "cell_type": "markdown",
   "metadata": {},
   "source": [
    "6\\. Use broadcasting to create a grid of distances\n",
    "\n",
    "Route 66 crosses the following cities in the US: Chicago, Springfield, Saint-Louis, Tulsa, Oklahoma City, Amarillo, Santa Fe, Albuquerque, Flagstaff, Los Angeles\n",
    "The corresponding positions in miles are: 0, 198, 303, 736, 871, 1175, 1475, 1544, 1913, 2448\n",
    "\n",
    "  * Construct a 2D grid of distances among each city along Route 66\n",
    "  * Convert that in km (those savages...)"
   ]
  },
  {
   "cell_type": "code",
   "execution_count": 26,
   "metadata": {},
   "outputs": [
    {
     "ename": "ValueError",
     "evalue": "The truth value of an array with more than one element is ambiguous. Use a.any() or a.all()",
     "output_type": "error",
     "traceback": [
      "\u001b[0;31m---------------------------------------------------------------------------\u001b[0m",
      "\u001b[0;31mValueError\u001b[0m                                Traceback (most recent call last)",
      "Input \u001b[0;32mIn [26]\u001b[0m, in \u001b[0;36m<cell line: 2>\u001b[0;34m()\u001b[0m\n\u001b[1;32m      1\u001b[0m cities\u001b[38;5;241m=\u001b[39mnp\u001b[38;5;241m.\u001b[39marray([\u001b[38;5;241m0\u001b[39m,\u001b[38;5;241m198\u001b[39m,\u001b[38;5;241m303\u001b[39m,\u001b[38;5;241m736\u001b[39m,\u001b[38;5;241m871\u001b[39m,\u001b[38;5;241m1175\u001b[39m,\u001b[38;5;241m1475\u001b[39m,\u001b[38;5;241m1544\u001b[39m,\u001b[38;5;241m1913\u001b[39m,\u001b[38;5;241m2448\u001b[39m])\n\u001b[0;32m----> 2\u001b[0m \u001b[43mnp\u001b[49m\u001b[38;5;241;43m.\u001b[39;49m\u001b[43marange\u001b[49m\u001b[43m(\u001b[49m\u001b[43mcities\u001b[49m\u001b[43m,\u001b[49m\u001b[43m)\u001b[49m\n",
      "\u001b[0;31mValueError\u001b[0m: The truth value of an array with more than one element is ambiguous. Use a.any() or a.all()"
     ]
    }
   ],
   "source": [
    "cities=np.array([0,198,303,736,871,1175,1475,1544,1913,2448])\n",
    "np.arange(cities,)"
   ]
  },
  {
   "cell_type": "code",
   "execution_count": 27,
   "metadata": {},
   "outputs": [
    {
     "data": {
      "text/plain": [
       "array([[   0,  198,  303,  736,  871, 1175, 1475, 1544, 1913, 2448],\n",
       "       [ 198,    0,  105,  538,  673,  977, 1277, 1346, 1715, 2250],\n",
       "       [ 303,  105,    0,  433,  568,  872, 1172, 1241, 1610, 2145],\n",
       "       [ 736,  538,  433,    0,  135,  439,  739,  808, 1177, 1712],\n",
       "       [ 871,  673,  568,  135,    0,  304,  604,  673, 1042, 1577],\n",
       "       [1175,  977,  872,  439,  304,    0,  300,  369,  738, 1273],\n",
       "       [1475, 1277, 1172,  739,  604,  300,    0,   69,  438,  973],\n",
       "       [1544, 1346, 1241,  808,  673,  369,   69,    0,  369,  904],\n",
       "       [1913, 1715, 1610, 1177, 1042,  738,  438,  369,    0,  535],\n",
       "       [2448, 2250, 2145, 1712, 1577, 1273,  973,  904,  535,    0]])"
      ]
     },
     "execution_count": 27,
     "metadata": {},
     "output_type": "execute_result"
    }
   ],
   "source": [
    "mat=np.tile(cities, (10,1))\n",
    "mat2=np.transpose(mat)\n",
    "distances=abs(mat-mat2)\n",
    "distances"
   ]
  },
  {
   "cell_type": "code",
   "execution_count": 102,
   "metadata": {},
   "outputs": [
    {
     "data": {
      "text/plain": [
       "array([[   0.     ,  318.64932,  487.63002, 1184.47424, 1401.73514,\n",
       "        1890.9745 , 2373.7765 , 2484.82096, 3078.66742, 3939.66432],\n",
       "       [ 318.64932,    0.     ,  168.9807 ,  865.82492, 1083.08582,\n",
       "        1572.32518, 2055.12718, 2166.17164, 2760.0181 , 3621.015  ],\n",
       "       [ 487.63002,  168.9807 ,    0.     ,  696.84422,  914.10512,\n",
       "        1403.34448, 1886.14648, 1997.19094, 2591.0374 , 3452.0343 ],\n",
       "       [1184.47424,  865.82492,  696.84422,    0.     ,  217.2609 ,\n",
       "         706.50026, 1189.30226, 1300.34672, 1894.19318, 2755.19008],\n",
       "       [1401.73514, 1083.08582,  914.10512,  217.2609 ,    0.     ,\n",
       "         489.23936,  972.04136, 1083.08582, 1676.93228, 2537.92918],\n",
       "       [1890.9745 , 1572.32518, 1403.34448,  706.50026,  489.23936,\n",
       "           0.     ,  482.802  ,  593.84646, 1187.69292, 2048.68982],\n",
       "       [2373.7765 , 2055.12718, 1886.14648, 1189.30226,  972.04136,\n",
       "         482.802  ,    0.     ,  111.04446,  704.89092, 1565.88782],\n",
       "       [2484.82096, 2166.17164, 1997.19094, 1300.34672, 1083.08582,\n",
       "         593.84646,  111.04446,    0.     ,  593.84646, 1454.84336],\n",
       "       [3078.66742, 2760.0181 , 2591.0374 , 1894.19318, 1676.93228,\n",
       "        1187.69292,  704.89092,  593.84646,    0.     ,  860.9969 ],\n",
       "       [3939.66432, 3621.015  , 3452.0343 , 2755.19008, 2537.92918,\n",
       "        2048.68982, 1565.88782, 1454.84336,  860.9969 ,    0.     ]])"
      ]
     },
     "execution_count": 102,
     "metadata": {},
     "output_type": "execute_result"
    }
   ],
   "source": [
    "km=distances*1.60934\n",
    "km"
   ]
  },
  {
   "cell_type": "markdown",
   "metadata": {},
   "source": [
    "7\\. Prime numbers sieve: compute the prime numbers in the 0-N (N=99 to start with) range with a sieve (mask).\n",
    "  * Constract a shape (100,) boolean array, the mask\n",
    "  * Identify the multiples of each number starting from 2 and set accordingly the corresponding mask element\n",
    "  * Apply the mask to obtain an array of ordered prime numbers\n",
    "  * Check the performances (timeit); how does it scale with N?\n",
    "  * Implement the optimization suggested in the [sieve of Eratosthenes](https://en.wikipedia.org/wiki/Sieve_of_Eratosthenes)"
   ]
  },
  {
   "cell_type": "code",
   "execution_count": 153,
   "metadata": {},
   "outputs": [],
   "source": [
    "def primos(N):\n",
    "    a=np.arange(0,N)\n",
    "    b=np.array([False]*N)\n",
    "    for i in range(1, len(a)):\n",
    "        divisores=[]\n",
    "        for j in range(i,1,-1):\n",
    "            if i%j==0:\n",
    "                divisores.append(j)\n",
    "        if len(divisores)==1:\n",
    "            b[i]=True\n",
    "        else:\n",
    "            b[i]=False\n",
    "        divisores=[]\n",
    "    return a[b]"
   ]
  },
  {
   "cell_type": "code",
   "execution_count": 162,
   "metadata": {},
   "outputs": [
    {
     "data": {
      "text/plain": [
       "array([ 2,  3,  5,  7, 11, 13, 17, 19, 23, 29, 31, 37, 41, 43, 47, 53, 59,\n",
       "       61, 67, 71, 73, 79, 83, 89, 97])"
      ]
     },
     "execution_count": 162,
     "metadata": {},
     "output_type": "execute_result"
    }
   ],
   "source": [
    "primos(100)"
   ]
  },
  {
   "cell_type": "code",
   "execution_count": 161,
   "metadata": {},
   "outputs": [
    {
     "name": "stdout",
     "output_type": "stream",
     "text": [
      "264 µs ± 7.7 µs per loop (mean ± std. dev. of 7 runs, 1,000 loops each)\n",
      "1.25 ms ± 299 µs per loop (mean ± std. dev. of 7 runs, 1,000 loops each)\n",
      "2.22 ms ± 174 µs per loop (mean ± std. dev. of 7 runs, 100 loops each)\n",
      "4.62 ms ± 1.8 ms per loop (mean ± std. dev. of 7 runs, 100 loops each)\n",
      "6.63 ms ± 2.05 ms per loop (mean ± std. dev. of 7 runs, 100 loops each)\n"
     ]
    }
   ],
   "source": [
    "%timeit primos(100)    \n",
    "%timeit primos(200)    \n",
    "%timeit primos(300)    \n",
    "%timeit primos(400)    \n",
    "%timeit primos(500) "
   ]
  },
  {
   "cell_type": "code",
   "execution_count": 215,
   "metadata": {},
   "outputs": [
    {
     "data": {
      "text/plain": [
       "array([ 2,  3,  5,  7, 11, 13, 17, 19, 23, 29, 31, 37, 41, 43, 47, 53, 59,\n",
       "       61, 67, 71, 73, 79, 83, 89, 97])"
      ]
     },
     "execution_count": 215,
     "metadata": {},
     "output_type": "execute_result"
    }
   ],
   "source": [
    "N=100\n",
    "a=np.arange(0,N)\n",
    "mask=np.array([True]*N)\n",
    "for i in range(2, N ):\n",
    "    mult=[]\n",
    "    for j in range(i,N,i):\n",
    "        mult.append(j)\n",
    "    mask[mult[1:]]=False\n",
    "a[mask][2:]"
   ]
  },
  {
   "cell_type": "code",
   "execution_count": 3,
   "metadata": {},
   "outputs": [
    {
     "name": "stdout",
     "output_type": "stream",
     "text": [
      "[ 0  1  2  3  5  7 11 13 17 19 23 29 31 37 41 43 47 53 59 61 67 71 73 79\n",
      " 83 89 97]\n"
     ]
    }
   ],
   "source": [
    "def optimizedPrime(N):\n",
    "    mask = np.array([True]*N)\n",
    "    B = np.arange(0,N,1)\n",
    "    for i in np.arange(2,np.sqrt(N),1):\n",
    "        i = int(i)\n",
    "        if mask[i]==True:\n",
    "            jList = [((i)**2) + (k*(i)) for k in range(N)]\n",
    "            for j in jList:\n",
    "                if j<N:\n",
    "                    mask[j]=False\n",
    "    return(B[mask])\n",
    "print(optimizedPrime(100))"
   ]
  },
  {
   "cell_type": "markdown",
   "metadata": {},
   "source": [
    "**N.B. the following exercises are meant to be solved only if you are familiar with the numpy random library. If not you can skip them (postponed for one of the next exercise sessions)**\n"
   ]
  },
  {
   "cell_type": "markdown",
   "metadata": {},
   "source": [
    "8\\. Diffusion using random walk\n",
    "\n",
    "Consider a simple random walk process: at each step in time, a walker jumps right or left (+1 or -1) with equal probability. The goal is to find the typical distance from the origin of a random walker after a given amount of time. \n",
    "To do that, let's simulate many walkers and create a 2D array with each walker as a raw and the actual time evolution as columns\n",
    "\n",
    "  * Take 1000 walkers and let them walk for 200 steps\n",
    "  * Use randint to create a 2D array of size walkers x steps with values -1 or 1\n",
    "  * Build the actual walking distances for each walker (i.e. another 2D array \"summing on each raw\")\n",
    "  * Take the square of that 2D array (elementwise)\n",
    "  * Compute the mean of the squared distances at each step (i.e. the mean along the columns)\n",
    "  * Plot the average distances (sqrt(distance\\*\\*2)) as a function of time (step)\n",
    "  \n",
    "Did you get what you expected?"
   ]
  },
  {
   "cell_type": "code",
   "execution_count": null,
   "metadata": {},
   "outputs": [],
   "source": []
  },
  {
   "cell_type": "markdown",
   "metadata": {},
   "source": [
    "9\\. Analyze a data file \n",
    "  * Download the population of hares, lynxes and carrots at the beginning of the last century.\n",
    "    ```python\n",
    "    ! wget https://www.dropbox.com/s/3vigxoqayo389uc/populations.txt\n",
    "    ```\n",
    "\n",
    "  * Check the content by looking within the file\n",
    "  * Load the data (use an appropriate numpy method) into a 2D array\n",
    "  * Create arrays out of the columns, the arrays being (in order): *year*, *hares*, *lynxes*, *carrots* \n",
    "  * Plot the 3 populations over the years\n",
    "  * Compute the main statistical properties of the dataset (mean, std, correlations, etc.)\n",
    "  * Which species has the highest population each year?\n",
    "\n",
    "Do you feel there is some evident correlation here? [Studies](https://www.enr.gov.nt.ca/en/services/lynx/lynx-snowshoe-hare-cycle) tend to believe so."
   ]
  },
  {
   "cell_type": "code",
   "execution_count": null,
   "metadata": {},
   "outputs": [],
   "source": []
  }
 ],
 "metadata": {
  "kernelspec": {
   "display_name": "Python 3 (ipykernel)",
   "language": "python",
   "name": "python3"
  },
  "language_info": {
   "codemirror_mode": {
    "name": "ipython",
    "version": 3
   },
   "file_extension": ".py",
   "mimetype": "text/x-python",
   "name": "python",
   "nbconvert_exporter": "python",
   "pygments_lexer": "ipython3",
   "version": "3.9.13"
  }
 },
 "nbformat": 4,
 "nbformat_minor": 2
}
