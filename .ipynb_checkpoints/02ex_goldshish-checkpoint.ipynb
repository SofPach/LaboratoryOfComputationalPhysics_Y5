{
 "cells": [
  {
   "cell_type": "markdown",
   "metadata": {},
   "source": [
    "1\\. Write a function that converts number representation (bin<->dec<->hex)"
   ]
  },
  {
   "cell_type": "code",
   "execution_count": 1,
   "metadata": {},
   "outputs": [
    {
     "data": {
      "text/plain": [
       "445"
      ]
     },
     "execution_count": 1,
     "metadata": {},
     "output_type": "execute_result"
    }
   ],
   "source": [
    "b='10000111'\n",
    "def bin_dec(b):\n",
    "    s=0\n",
    "    a=b[::-1]\n",
    "    for i in range(len(a)):\n",
    "        s+=int(a[i])*2**i\n",
    "    return s\n",
    "\n",
    "def dec_bin(dec):\n",
    "    bin = ''\n",
    "    quotient = dec\n",
    "    while quotient!=0:\n",
    "        rem = quotient%2\n",
    "        bin = str(rem)+bin\n",
    "        quotient = quotient//2\n",
    "    return bin\n",
    "\n",
    "def dec_hex(dec):\n",
    "    hex_code = {10:'A',11:'B',12:'C',13:'D',14:'E',15:'F'}\n",
    "    hexa = ''\n",
    "    quotient = dec\n",
    "    while quotient!=0:\n",
    "        rem = quotient%16\n",
    "        if rem>=10:\n",
    "            rem=hex_code[rem]\n",
    "        hexa = str(rem)+hexa\n",
    "        quotient = quotient//16\n",
    "    return hexa\n",
    "\n",
    "#dec_hex(1000)\n",
    "\n",
    "def hex_dec(hexa):\n",
    "    hex_code = {'A':10,'B':11,'C':12,'D':13,'E':14,'F':15}\n",
    "    s=0\n",
    "    a=hexa[::-1]\n",
    "    for i in range(len(a)):\n",
    "        num=a[i]\n",
    "        if num=='A'or num=='B'or num=='C'or num=='D'or num=='E'or num=='F':\n",
    "            num=hex_code[num]\n",
    "        s+=int(num)*16**i\n",
    "    return s\n",
    "hex_dec('1BD')\n",
    "\n",
    "   \n",
    "#dec_bin(4)\n",
    "\n",
    "#bin_dec('10000111')\n",
    "#print(5//2)    "
   ]
  },
  {
   "cell_type": "markdown",
   "metadata": {},
   "source": [
    "2\\. Write a function that converts a 32 bit word into a single precision floating point (i.e. interprets the various bits as sign, mantissa and exponent)"
   ]
  },
  {
   "cell_type": "code",
   "execution_count": 2,
   "metadata": {},
   "outputs": [
    {
     "data": {
      "text/html": [
       "<img src=\"http://www.dspguide.com/graphics/F_4_2.gif\"/>"
      ],
      "text/plain": [
       "<IPython.core.display.Image object>"
      ]
     },
     "execution_count": 2,
     "metadata": {},
     "output_type": "execute_result"
    }
   ],
   "source": [
    "from IPython.display import Image\n",
    "Image(url='http://www.dspguide.com/graphics/F_4_2.gif')"
   ]
  },
  {
   "cell_type": "code",
   "execution_count": 3,
   "metadata": {},
   "outputs": [
    {
     "data": {
      "text/plain": [
       "-5.5"
      ]
     },
     "execution_count": 3,
     "metadata": {},
     "output_type": "execute_result"
    }
   ],
   "source": [
    "def bin_dec(b):\n",
    "    s=0\n",
    "    a=b[::-1]\n",
    "    for i in range(len(a)):\n",
    "        s+=int(a[i])*2**i\n",
    "    return s\n",
    "\n",
    "def bitsConv32(bin32):\n",
    "    s = int(bin32[0])\n",
    "    #print(s)\n",
    "    bias = 127\n",
    "    e = bin_dec(bin32[1:9])\n",
    "    #print(e)\n",
    "    f = 0\n",
    "    for i in range(len(bin32[9:])):\n",
    "        f+=int(bin32[9+i])*2**-(i+1)\n",
    "    num = (-1)**s * (1+f) * 2**(e-bias)\n",
    "    return num\n",
    "    \n",
    "bin32 = '00000011111000000000000000000000'\n",
    "bitsConv32(bin32)\n",
    "bin32='11000000101100000000000000000000'\n",
    "bitsConv32(bin32)\n",
    "\n",
    "#print(len(bin32))"
   ]
  },
  {
   "cell_type": "markdown",
   "metadata": {},
   "source": [
    "3\\. Write a program to determine the underflow and overflow limits (within a factor of 2) for python on your computer. \n",
    "\n",
    "**Tips**: define two variables inizialized to 1 and halve/double them enough time to exceed the under/over-flow limits  "
   ]
  },
  {
   "cell_type": "code",
   "execution_count": 4,
   "metadata": {},
   "outputs": [
    {
     "name": "stdout",
     "output_type": "stream",
     "text": [
      "1075 0.0 0.0\n",
      "1026\n"
     ]
    }
   ],
   "source": [
    "\n",
    "i=0\n",
    "a=1\n",
    "b=a/2\n",
    "while a!=b:\n",
    "    a=b\n",
    "    b=b/2\n",
    "    i+=1\n",
    "    #print(a)\n",
    "print(i,a,b)#after 1075 iterations it is unable to determine which is a and which is b. It has reached underflow limits. 5x10^324 is the smallest value it can differentiate.\n",
    "    \n",
    "i=0\n",
    "a=1\n",
    "b=a/2\n",
    "while a!=b:\n",
    "    a=b\n",
    "    b=b*2\n",
    "    i+=1\n",
    "print(i)#after 1026 iterations it is unable to determine which is a and which is b. It has reached overflow limits.  \n",
    "    \n",
    "    "
   ]
  },
  {
   "cell_type": "markdown",
   "metadata": {},
   "source": [
    "4\\. Write a program to determine the machine precision\n",
    "\n",
    "**Tips**: define a new variable by adding a smaller and smaller value (proceeding similarly to prob. 2) to an original variable and check the point where the two are the same "
   ]
  },
  {
   "cell_type": "code",
   "execution_count": 5,
   "metadata": {},
   "outputs": [
    {
     "name": "stdout",
     "output_type": "stream",
     "text": [
      "2.220446049250313e-16\n",
      "2.220446049250313e-16\n"
     ]
    }
   ],
   "source": [
    "epsmach = 1\n",
    "while (1+epsmach)>1:\n",
    "    epsmach=epsmach/2\n",
    "epsmach=epsmach*2# we are multiplying by 2 since after division by 2 the condition of (1+e)>1 breaks.\n",
    "print(epsmach)\n",
    "\n",
    "import numpy as np\n",
    "print(np.finfo(np.float).eps)"
   ]
  },
  {
   "cell_type": "markdown",
   "metadata": {},
   "source": [
    "5\\. Write a function that takes in input three parameters $a$, $b$ and $c$ and prints out the two solutions to the quadratic equation $ax^2+bx+c=0$ using the standard formula:\n",
    "$$\n",
    "x=\\frac{-b\\pm\\sqrt{b^2-4ac}}{2a}\n",
    "$$\n",
    "\n",
    "(a) use the program to compute the solution for $a=0.001$, $b=1000$ and $c=0.001$\n",
    "\n",
    "(b) re-express the standard solution formula by multiplying top and bottom by $-b\\mp\\sqrt{b^2-4ac}$ and again find the solution for $a=0.001$, $b=1000$ and $c=0.001$. How does it compare with what previously obtained? Why?\n",
    "\n",
    "(c) write a function that compute the roots of a quadratic equation accurately in all cases"
   ]
  },
  {
   "cell_type": "code",
   "execution_count": 6,
   "metadata": {},
   "outputs": [
    {
     "name": "stdout",
     "output_type": "stream",
     "text": [
      "-9.999894245993346e-07 -999999.999999\n"
     ]
    }
   ],
   "source": [
    "from math import sqrt#There exists a problem since b^2=10^6 and 4*a*c=4*10^-6, so there b**2-4*a*c is still close to 10^6.\n",
    "a=0.001\n",
    "b=1000\n",
    "c=0.001\n",
    "x1 = (-b+sqrt(b**2-4*a*c))/(2*a)\n",
    "x2 = (-b-sqrt(b**2-4*a*c))/(2*a)\n",
    "print(x1,x2)"
   ]
  },
  {
   "cell_type": "code",
   "execution_count": 7,
   "metadata": {},
   "outputs": [
    {
     "name": "stdout",
     "output_type": "stream",
     "text": [
      "-9.999894245993346e-07 -999999.9999990001\n"
     ]
    }
   ],
   "source": [
    "from math import sqrt\n",
    "a=0.001\n",
    "b=1000\n",
    "c=0.001\n",
    "x1 = (-b+sqrt(b**2-4*a*c))*(-b-sqrt(b**2-4*a*c))/((2*a)*(-b-sqrt(b**2-4*a*c)))\n",
    "x2 = (-b-sqrt(b**2-4*a*c))*(-b+sqrt(b**2-4*a*c))/((2*a)*(-b+sqrt(b**2-4*a*c)))\n",
    "print(x1,x2)#because of further division we get even more floating points"
   ]
  },
  {
   "cell_type": "code",
   "execution_count": 8,
   "metadata": {},
   "outputs": [
    {
     "name": "stdout",
     "output_type": "stream",
     "text": [
      "There are 2 roots:\n",
      "-9.999894245993346e-07 -999999.999999\n"
     ]
    }
   ],
   "source": [
    "from math import sqrt\n",
    "a=0.001\n",
    "b=1000\n",
    "c=0.001\n",
    "def quadraticSol(a,b,c):#ax^2+bx+c=0\n",
    "    r=b**2-4*a*c\n",
    "    if r>0:\n",
    "        print(\"There are 2 roots:\")\n",
    "        x1=(-b+sqrt(r))/(2*a)\n",
    "        x2=(-b-sqrt(r))/(2*a)\n",
    "        print(x1,x2)\n",
    "    elif r==0:\n",
    "        print(\"There is 1 root:\")\n",
    "        x1=-b/(2*a)\n",
    "        print(x1)\n",
    "    else:\n",
    "        print(\"There are no roots. Discriminant<0\")\n",
    "\n",
    "quadraticSol(a,b,c)"
   ]
  },
  {
   "cell_type": "markdown",
   "metadata": {},
   "source": [
    "6\\. Write a program that implements the function $f(x)=x(x−1)$\n",
    "\n",
    "(a) Calculate the derivative of the function at the point $x = 1$ using the derivative definition:\n",
    "\n",
    "$$\n",
    "\\frac{{\\rm d}f}{{\\rm d}x} = \\lim_{\\delta\\to0} \\frac{f(x+\\delta)-f(x)}{\\delta}\n",
    "$$\n",
    "\n",
    "with $\\delta = 10^{−2}$. Calculate the true value of the same derivative analytically and compare with the answer your program gives. The two will not agree perfectly. Why not?\n",
    "\n",
    "(b) Repeat the calculation for $\\delta = 10^{−4}, 10^{−6}, 10^{−8}, 10^{−10}, 10^{−12}$ and $10^{−14}$. How does the accuracy scales with $\\delta$?"
   ]
  },
  {
   "cell_type": "code",
   "execution_count": 9,
   "metadata": {},
   "outputs": [
    {
     "data": {
      "text/plain": [
       "1.010000000000001"
      ]
     },
     "execution_count": 9,
     "metadata": {},
     "output_type": "execute_result"
    }
   ],
   "source": [
    "def f(x):\n",
    "    return x*(x-1)\n",
    "\n",
    "def derivative(x,delta): #consider x=1\n",
    "    return (f(x+delta)-f(x))/delta\n",
    "    \n",
    "derivative(1,1e-2)\n",
    "    \n",
    "    "
   ]
  },
  {
   "cell_type": "code",
   "execution_count": 10,
   "metadata": {},
   "outputs": [
    {
     "name": "stdout",
     "output_type": "stream",
     "text": [
      "1.0000999999998899\n",
      "1.0000009999177333\n",
      "1.0000000039225287\n",
      "1.000000082840371\n",
      "1.0000889005833413\n",
      "0.9992007221626509\n"
     ]
    }
   ],
   "source": [
    "def f(x):\n",
    "    return x*(x-1)\n",
    "\n",
    "def derivative(x,delta): #consider x=1\n",
    "    return (f(x+delta)-f(x))/delta\n",
    "    \n",
    "for i in [10**-4,10**-6,10**-8,10**-10,10**-12,10**-14]:\n",
    "    print(derivative(1,i))\n"
   ]
  },
  {
   "cell_type": "markdown",
   "metadata": {},
   "source": [
    "7\\. Consider the integral of the semicircle of radius 1:\n",
    "$$\n",
    "I=\\int_{-1}^{1} \\sqrt(1-x^2) {\\rm d}x\n",
    "$$\n",
    "which it's known to be $I=\\frac{\\pi}{2}=1.57079632679...$.\n",
    "Alternatively we can use the Riemann definition of the integral:\n",
    "$$\n",
    "I=\\lim_{N\\to\\infty} \\sum_{k=1}^{N} h y_k \n",
    "$$\n",
    "\n",
    "with $h=2/N$ the width of each of the $N$ slices the domain is divided into and where\n",
    "$y_k$ is the value of the function at the $k-$th slice.\n",
    "\n",
    "(a) Write a programe to compute the integral with $N=100$. How does the result compares to the true value?\n",
    "\n",
    "(b) How much can $N$ be increased if the computation needs to be run in less than a second? What is the gain in running it for 1 minute? \n"
   ]
  },
  {
   "cell_type": "code",
   "execution_count": 11,
   "metadata": {},
   "outputs": [
    {
     "name": "stdout",
     "output_type": "stream",
     "text": [
      "1.570752662892821\n"
     ]
    }
   ],
   "source": [
    "from math import sqrt\n",
    "a=-1\n",
    "b=1\n",
    "N=1132\n",
    "h=(b-a)/N\n",
    "I=0\n",
    "\n",
    "def f(x):\n",
    "    return sqrt(1-x*x)\n",
    "\n",
    "for i in range(1,N+1):\n",
    "    I+=f(a+h*i)*h\n",
    "print(I)\n"
   ]
  },
  {
   "cell_type": "code",
   "execution_count": 12,
   "metadata": {},
   "outputs": [
    {
     "name": "stdout",
     "output_type": "stream",
     "text": [
      "1782 1.5707742006947263\n"
     ]
    }
   ],
   "source": [
    "from math import sqrt\n",
    "a=-1\n",
    "b=1\n",
    "N=1\n",
    "#h=(b-a)/N\n",
    "\n",
    "def f(x):\n",
    "    return sqrt(1-x*x)\n",
    "\n",
    "import time\n",
    "t_end = time.time() + 1 #initial time + seconds\n",
    "while time.time() <= t_end:\n",
    "    I=0\n",
    "    for i in range(1,N+1):\n",
    "        I+=f(a+(2/N)*i)*(2/N)\n",
    "    N+=1\n",
    "N1=N\n",
    "I1=I\n",
    "print(N1,I1)# For N=1134 it runs for just less than 1 second to give a better answer. For 1 minute, N=9211 and answer is"
   ]
  },
  {
   "cell_type": "code",
   "execution_count": 13,
   "metadata": {},
   "outputs": [
    {
     "name": "stdout",
     "output_type": "stream",
     "text": [
      "13590 1.5707952769322338\n",
      "0.0013417558492172725\n"
     ]
    }
   ],
   "source": [
    "from math import sqrt\n",
    "a=-1\n",
    "b=1\n",
    "N=1\n",
    "#h=(b-a)/N\n",
    "\n",
    "def f(x):\n",
    "    return sqrt(1-x*x)\n",
    "\n",
    "import time\n",
    "t_end = time.time() + 60 #initial time + seconds\n",
    "while time.time() <= t_end:\n",
    "    I=0\n",
    "    for i in range(1,N+1):\n",
    "        I+=f(a+(2/N)*i)*(2/N)\n",
    "    N+=1\n",
    "N2=N\n",
    "I2=I\n",
    "print(N,I)# For N=1134 it runs for just less than 1 second to give a better answer. For 1 minute, N=9211 and answer is\n",
    "Gain = (abs(I1-I2)/I2)*100\n",
    "print(Gain)"
   ]
  }
 ],
 "metadata": {
  "kernelspec": {
   "display_name": "Python 3",
   "language": "python",
   "name": "python3"
  },
  "language_info": {
   "codemirror_mode": {
    "name": "ipython",
    "version": 3
   },
   "file_extension": ".py",
   "mimetype": "text/x-python",
   "name": "python",
   "nbconvert_exporter": "python",
   "pygments_lexer": "ipython3",
   "version": "3.7.4"
  }
 },
 "nbformat": 4,
 "nbformat_minor": 2
}
