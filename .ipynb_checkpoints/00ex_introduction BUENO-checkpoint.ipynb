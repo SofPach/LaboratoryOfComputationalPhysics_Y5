{
 "cells": [
  {
   "cell_type": "markdown",
   "metadata": {},
   "source": [
    "1. The MickeyMouse problem\n",
    "\n",
    "a) Write a program that prints the numbers from 1 to 100. But for multiples of 3 print `Mickey` instead of the corresponding number and for the multiples of 5 print `Mouse`. For numbers which are multiples of both three and five print `MickeyMouse`\n",
    "\n",
    "b) Put the result in a tuple and substitute `Mickey` with `Donald` and `Mouse` with `Duck`"
   ]
  },
  {
   "cell_type": "code",
   "execution_count": 16,
   "metadata": {},
   "outputs": [],
   "source": [
    "# a) Write a program that prints the numbers from 1 to 100. But for multiples \n",
    "# of 3 print `Mickey` instead of the corresponding number and for the multiples of 5 print `Mouse`. \n",
    "# For numbers which are multiples of both three and five print `MickeyMouse`\n",
    "\n",
    "def MM():\n",
    "    for i in range(1,101):\n",
    "        if i%3==0 and i%5==0:\n",
    "            print('MickeyMouse')\n",
    "        elif i%3==0:\n",
    "            print('Mickey')\n",
    "        elif i%5==0:\n",
    "            print('Mouse')\n",
    "        else:\n",
    "            print(i)\n",
    "\n",
    "MM()"
   ]
  },
  {
   "cell_type": "code",
   "execution_count": 21,
   "metadata": {},
   "outputs": [
    {
     "data": {
      "text/plain": [
       "[1,\n",
       " 2,\n",
       " 'Mickey',\n",
       " 4,\n",
       " 'Mouse',\n",
       " 'Mickey',\n",
       " 7,\n",
       " 8,\n",
       " 'Mickey',\n",
       " 'Mouse',\n",
       " 11,\n",
       " 'Mickey',\n",
       " 13,\n",
       " 14,\n",
       " 'MickeyMouse',\n",
       " 16,\n",
       " 17,\n",
       " 'Mickey',\n",
       " 19,\n",
       " 'Mouse',\n",
       " 'Mickey',\n",
       " 22,\n",
       " 23,\n",
       " 'Mickey',\n",
       " 'Mouse',\n",
       " 26,\n",
       " 'Mickey',\n",
       " 28,\n",
       " 29,\n",
       " 'MickeyMouse',\n",
       " 31,\n",
       " 32,\n",
       " 'Mickey',\n",
       " 34,\n",
       " 'Mouse',\n",
       " 'Mickey',\n",
       " 37,\n",
       " 38,\n",
       " 'Mickey',\n",
       " 'Mouse',\n",
       " 41,\n",
       " 'Mickey',\n",
       " 43,\n",
       " 44,\n",
       " 'MickeyMouse',\n",
       " 46,\n",
       " 47,\n",
       " 'Mickey',\n",
       " 49,\n",
       " 'Mouse',\n",
       " 'Mickey',\n",
       " 52,\n",
       " 53,\n",
       " 'Mickey',\n",
       " 'Mouse',\n",
       " 56,\n",
       " 'Mickey',\n",
       " 58,\n",
       " 59,\n",
       " 'MickeyMouse',\n",
       " 61,\n",
       " 62,\n",
       " 'Mickey',\n",
       " 64,\n",
       " 'Mouse',\n",
       " 'Mickey',\n",
       " 67,\n",
       " 68,\n",
       " 'Mickey',\n",
       " 'Mouse',\n",
       " 71,\n",
       " 'Mickey',\n",
       " 73,\n",
       " 74,\n",
       " 'MickeyMouse',\n",
       " 76,\n",
       " 77,\n",
       " 'Mickey',\n",
       " 79,\n",
       " 'Mouse',\n",
       " 'Mickey',\n",
       " 82,\n",
       " 83,\n",
       " 'Mickey',\n",
       " 'Mouse',\n",
       " 86,\n",
       " 'Mickey',\n",
       " 88,\n",
       " 89,\n",
       " 'MickeyMouse',\n",
       " 91,\n",
       " 92,\n",
       " 'Mickey',\n",
       " 94,\n",
       " 'Mouse',\n",
       " 'Mickey',\n",
       " 97,\n",
       " 98,\n",
       " 'Mickey',\n",
       " 'Mouse']"
      ]
     },
     "execution_count": 21,
     "metadata": {},
     "output_type": "execute_result"
    }
   ],
   "source": [
    "# b Put the result in a tuple and substitute `Mickey` with `Donald` and `Mouse` with `Duck`\n",
    "lista=[]\n",
    "a='MickeyMouse'\n",
    "b='Mickey'\n",
    "c='Mouse'\n",
    "for i in range(1,101):\n",
    "    if i%3==0 and i%5==0:\n",
    "        lista.append(a)\n",
    "    elif i%3==0:\n",
    "        lista.append(b)\n",
    "    elif i%5==0:\n",
    "        lista.append(c)\n",
    "    else:\n",
    "        lista.append(i)\n",
    "lista\n",
    "for j in lista:\n",
    "    if j==a:\n",
    "        a='Donald'\n",
    "    elif j==b:\n",
    "        b='Duck'\n"
   ]
  },
  {
   "cell_type": "markdown",
   "metadata": {},
   "source": [
    "2\\. The swap function\n",
    "\n",
    "Write a function that swap the values of two input variables x and y (whatever the type). Try to do that also without a temporary variable"
   ]
  },
  {
   "cell_type": "code",
   "execution_count": 33,
   "metadata": {},
   "outputs": [],
   "source": [
    "def swap(x,y):\n",
    "    a=x\n",
    "    b=y\n",
    "    x=b\n",
    "    y=a\n",
    "    return x,y"
   ]
  },
  {
   "cell_type": "code",
   "execution_count": 34,
   "metadata": {},
   "outputs": [
    {
     "data": {
      "text/plain": [
       "(2, 1)"
      ]
     },
     "execution_count": 34,
     "metadata": {},
     "output_type": "execute_result"
    }
   ],
   "source": [
    "r=1\n",
    "t=2\n",
    "swap(r,t)"
   ]
  },
  {
   "cell_type": "code",
   "execution_count": 35,
   "metadata": {},
   "outputs": [
    {
     "data": {
      "text/plain": [
       "1"
      ]
     },
     "execution_count": 35,
     "metadata": {},
     "output_type": "execute_result"
    }
   ],
   "source": [
    "r"
   ]
  },
  {
   "cell_type": "markdown",
   "metadata": {},
   "source": [
    "3\\. Computing the distance\n",
    "\n",
    "Write a function that calculates and returns the euclidean distance between two points *u* and *v*, where *u* and *v* are both 2-tuples *(x,y)*. For example, if *u=(3,0)* and *v=(0,4)*, the function should return 5"
   ]
  },
  {
   "cell_type": "markdown",
   "metadata": {},
   "source": [
    "4\\. Counting letters\n",
    "\n",
    "Write a program to calculate the number of times each character occurs in a given string *s*. Ignore differneces in capitalization"
   ]
  },
  {
   "cell_type": "code",
   "execution_count": null,
   "metadata": {},
   "outputs": [],
   "source": [
    "s=\"Write a program that prints the numbers from 1 to 100. \\\n",
    "But for multiples of three print Mickey instead of the number and for the multiples of five print Mouse. \\\n",
    "For numbers which are multiples of both three and five print MickeyMouse\""
   ]
  },
  {
   "cell_type": "markdown",
   "metadata": {},
   "source": [
    "5\\. Isolating the unique\n",
    "\n",
    "Write a function that determines and count the unique numbers in the list *l*"
   ]
  },
  {
   "cell_type": "code",
   "execution_count": 37,
   "metadata": {},
   "outputs": [],
   "source": [
    "l = [36, 45, 58, 3, 74, 96, 64, 45, 31, 10, 24, 19, 33, 86, 99, 18, 63, 70, 85,\n",
    " 85, 63, 47, 56, 42, 70, 84, 88, 55, 20, 54, 8, 56, 51, 79, 81, 57, 37, 91,\n",
    " 1, 84, 84, 36, 66, 9, 89, 50, 42, 91, 50, 95, 90, 98, 39, 16, 82, 31, 92, 41,\n",
    " 45, 30, 66, 70, 34, 85, 94, 5, 3, 36, 72, 91, 84, 34, 87, 75, 53, 51, 20, 89, 51, 20]"
   ]
  },
  {
   "cell_type": "code",
   "execution_count": 52,
   "metadata": {},
   "outputs": [],
   "source": [
    "def unique(lista): \n",
    "    y=set(lista)\n",
    "    print('Unique numbers:',y)\n",
    "    x=len(y)\n",
    "    print('Number of unique numbers:', x)"
   ]
  },
  {
   "cell_type": "code",
   "execution_count": 53,
   "metadata": {},
   "outputs": [
    {
     "name": "stdout",
     "output_type": "stream",
     "text": [
      "Unique numbers: {1, 3, 5, 8, 9, 10, 16, 18, 19, 20, 24, 30, 31, 33, 34, 36, 37, 39, 41, 42, 45, 47, 50, 51, 53, 54, 55, 56, 57, 58, 63, 64, 66, 70, 72, 74, 75, 79, 81, 82, 84, 85, 86, 87, 88, 89, 90, 91, 92, 94, 95, 96, 98, 99}\n",
      "Number of unique numbers: 54\n"
     ]
    }
   ],
   "source": [
    "unique(l)"
   ]
  },
  {
   "cell_type": "markdown",
   "metadata": {},
   "source": [
    "6.Combination of functions\n",
    "\n",
    "Write two functions - one that returns the square of a number, and one that returns the cube. Now write a third function that returns the number raised to the 6th power using the two previous functions."
   ]
  },
  {
   "cell_type": "code",
   "execution_count": 62,
   "metadata": {},
   "outputs": [],
   "source": [
    "def square(number):\n",
    "    sq=number**2\n",
    "    return sq\n",
    "    \n",
    "def cube(number):\n",
    "    cb=number**3\n",
    "    return cb\n",
    "\n",
    "def sixpower(number):\n",
    "    six=square(number)*cube(number)\n",
    "    return six"
   ]
  },
  {
   "cell_type": "code",
   "execution_count": 65,
   "metadata": {},
   "outputs": [
    {
     "data": {
      "text/plain": [
       "(4, 8, 32)"
      ]
     },
     "execution_count": 65,
     "metadata": {},
     "output_type": "execute_result"
    }
   ],
   "source": [
    "n=2\n",
    "square(n),cube(n), sixpower(n)"
   ]
  },
  {
   "cell_type": "markdown",
   "metadata": {},
   "source": [
    "7\\. Cubes\n",
    "\n",
    "Create a list of the cubes of x for x in *[0, 10]* using:\n",
    "\n",
    "a) a for loop\n",
    "\n",
    "b) a list comprehension"
   ]
  },
  {
   "cell_type": "code",
   "execution_count": 76,
   "metadata": {},
   "outputs": [
    {
     "data": {
      "text/plain": [
       "[0, 1, 8, 27, 64, 125, 216, 343, 512, 729, 1000]"
      ]
     },
     "execution_count": 76,
     "metadata": {},
     "output_type": "execute_result"
    }
   ],
   "source": [
    "cubesa=[]\n",
    "for i in range(0,11):\n",
    "    cubesa.append(i**3)\n",
    "cubesa"
   ]
  },
  {
   "cell_type": "code",
   "execution_count": 68,
   "metadata": {},
   "outputs": [
    {
     "data": {
      "text/plain": [
       "[0, 1, 8, 27, 64, 125, 216, 343, 512, 729, 1000]"
      ]
     },
     "execution_count": 68,
     "metadata": {},
     "output_type": "execute_result"
    }
   ],
   "source": [
    "cubesb=[x**3 for x in range(0,11)]\n",
    "cubesb"
   ]
  },
  {
   "cell_type": "markdown",
   "metadata": {},
   "source": [
    "8\\. Nested list comprehension\n",
    "\n",
    "A Pythagorean triple is an integer solution to the Pythagorean theorem $a^2+b^2=c^2$. The first Pythagorean triple is (3,4,5). Find and put in a tuple all unique Pythagorean triples for the positive integers a, b and c less than 100."
   ]
  },
  {
   "cell_type": "code",
   "execution_count": 94,
   "metadata": {},
   "outputs": [
    {
     "data": {
      "text/plain": [
       "[1, 2, 3]"
      ]
     },
     "execution_count": 94,
     "metadata": {},
     "output_type": "execute_result"
    }
   ],
   "source": [
    "m=[2,1,3]\n",
    "m.sort()\n",
    "m"
   ]
  },
  {
   "cell_type": "code",
   "execution_count": 102,
   "metadata": {},
   "outputs": [
    {
     "data": {
      "text/plain": [
       "[[3, 4, 5],\n",
       " [3, 4, 5],\n",
       " [5, 12, 13],\n",
       " [6, 8, 10],\n",
       " [7, 24, 25],\n",
       " [6, 8, 10],\n",
       " [8, 15, 17],\n",
       " [9, 12, 15],\n",
       " [9, 40, 41],\n",
       " [10, 24, 26],\n",
       " [11, 60, 61],\n",
       " [5, 12, 13],\n",
       " [9, 12, 15],\n",
       " [12, 16, 20],\n",
       " [12, 35, 37],\n",
       " [13, 84, 85],\n",
       " [14, 48, 50],\n",
       " [8, 15, 17],\n",
       " [15, 20, 25],\n",
       " [15, 36, 39],\n",
       " [12, 16, 20],\n",
       " [16, 30, 34],\n",
       " [16, 63, 65],\n",
       " [18, 24, 30],\n",
       " [18, 80, 82],\n",
       " [15, 20, 25],\n",
       " [20, 21, 29],\n",
       " [20, 48, 52],\n",
       " [20, 21, 29],\n",
       " [21, 28, 35],\n",
       " [21, 72, 75],\n",
       " [7, 24, 25],\n",
       " [10, 24, 26],\n",
       " [18, 24, 30],\n",
       " [24, 32, 40],\n",
       " [24, 45, 51],\n",
       " [24, 70, 74],\n",
       " [25, 60, 65],\n",
       " [27, 36, 45],\n",
       " [21, 28, 35],\n",
       " [28, 45, 53],\n",
       " [28, 96, 100],\n",
       " [16, 30, 34],\n",
       " [30, 40, 50],\n",
       " [30, 72, 78],\n",
       " [24, 32, 40],\n",
       " [32, 60, 68],\n",
       " [33, 44, 55],\n",
       " [33, 56, 65],\n",
       " [12, 35, 37],\n",
       " [35, 84, 91],\n",
       " [15, 36, 39],\n",
       " [27, 36, 45],\n",
       " [36, 48, 60],\n",
       " [36, 77, 85],\n",
       " [39, 52, 65],\n",
       " [39, 80, 89],\n",
       " [9, 40, 41],\n",
       " [30, 40, 50],\n",
       " [40, 42, 58],\n",
       " [40, 75, 85],\n",
       " [40, 42, 58],\n",
       " [42, 56, 70],\n",
       " [33, 44, 55],\n",
       " [24, 45, 51],\n",
       " [28, 45, 53],\n",
       " [45, 60, 75],\n",
       " [14, 48, 50],\n",
       " [20, 48, 52],\n",
       " [36, 48, 60],\n",
       " [48, 55, 73],\n",
       " [48, 64, 80],\n",
       " [51, 68, 85],\n",
       " [39, 52, 65],\n",
       " [54, 72, 90],\n",
       " [48, 55, 73],\n",
       " [33, 56, 65],\n",
       " [42, 56, 70],\n",
       " [57, 76, 95],\n",
       " [11, 60, 61],\n",
       " [25, 60, 65],\n",
       " [32, 60, 68],\n",
       " [45, 60, 75],\n",
       " [60, 63, 87],\n",
       " [60, 80, 100],\n",
       " [16, 63, 65],\n",
       " [60, 63, 87],\n",
       " [48, 64, 80],\n",
       " [65, 72, 97],\n",
       " [51, 68, 85],\n",
       " [24, 70, 74],\n",
       " [21, 72, 75],\n",
       " [30, 72, 78],\n",
       " [54, 72, 90],\n",
       " [65, 72, 97],\n",
       " [40, 75, 85],\n",
       " [57, 76, 95],\n",
       " [36, 77, 85],\n",
       " [18, 80, 82],\n",
       " [39, 80, 89],\n",
       " [60, 80, 100],\n",
       " [13, 84, 85],\n",
       " [35, 84, 91],\n",
       " [28, 96, 100]]"
      ]
     },
     "execution_count": 102,
     "metadata": {},
     "output_type": "execute_result"
    }
   ],
   "source": [
    "l=[]\n",
    "for i in range(1,101):\n",
    "    for j in range(1,101):\n",
    "        for k in range(1,101):\n",
    "            m=[i,j,k]\n",
    "            if (i**2)+(j**2)==k**2:\n",
    "                m.sort()\n",
    "                l.append(m)\n",
    "l"
   ]
  },
  {
   "cell_type": "markdown",
   "metadata": {},
   "source": [
    "9\\. Normalization\n",
    "\n",
    "Write a function that takes a tuple of numbers and returns it with the entries normalized to one"
   ]
  },
  {
   "cell_type": "code",
   "execution_count": null,
   "metadata": {},
   "outputs": [],
   "source": []
  }
 ],
 "metadata": {
  "kernelspec": {
   "display_name": "Python 3",
   "language": "python",
   "name": "python3"
  },
  "language_info": {
   "codemirror_mode": {
    "name": "ipython",
    "version": 3
   },
   "file_extension": ".py",
   "mimetype": "text/x-python",
   "name": "python",
   "nbconvert_exporter": "python",
   "pygments_lexer": "ipython3",
   "version": "3.6.8"
  }
 },
 "nbformat": 4,
 "nbformat_minor": 2
}
