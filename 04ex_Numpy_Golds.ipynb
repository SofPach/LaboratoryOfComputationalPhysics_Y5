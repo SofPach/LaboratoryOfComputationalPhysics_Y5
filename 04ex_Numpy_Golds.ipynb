{
 "cells": [
  {
   "cell_type": "markdown",
   "metadata": {},
   "source": [
    "### Numpy basics"
   ]
  },
  {
   "cell_type": "markdown",
   "metadata": {},
   "source": [
    "1\\. Find the row, column and overall means for the following matrix:\n",
    "\n",
    "```python\n",
    "m = np.arange(12).reshape((3,4))\n",
    "```"
   ]
  },
  {
   "cell_type": "code",
   "execution_count": 1,
   "metadata": {},
   "outputs": [
    {
     "name": "stdout",
     "output_type": "stream",
     "text": [
      "[[ 0  1  2  3]\n",
      " [ 4  5  6  7]\n",
      " [ 8  9 10 11]]\n",
      "[4. 5. 6. 7.]\n",
      "[1.5 5.5 9.5]\n",
      "5.5\n"
     ]
    }
   ],
   "source": [
    "import numpy as np\n",
    "m = np.arange(12).reshape((3,4))\n",
    "print(m)\n",
    "print(np.mean(m, axis = 0))\n",
    "print(np.mean(m, axis = 1))\n",
    "print(np.mean(m))\n"
   ]
  },
  {
   "cell_type": "markdown",
   "metadata": {},
   "source": [
    "2\\. Find the outer product of the following two vecotrs\n",
    "\n",
    "```python\n",
    "u = np.array([1,3,5,7])\n",
    "v = np.array([2,4,6,8])\n",
    "```\n",
    "\n",
    "Do this in the following ways:\n",
    "\n",
    "   * Using the function outer in numpy\n",
    "   * Using a nested for loop or list comprehension\n",
    "   * Using numpy broadcasting operations\n"
   ]
  },
  {
   "cell_type": "code",
   "execution_count": 2,
   "metadata": {},
   "outputs": [
    {
     "name": "stdout",
     "output_type": "stream",
     "text": [
      "[[ 2  4  6  8]\n",
      " [ 6 12 18 24]\n",
      " [10 20 30 40]\n",
      " [14 28 42 56]]\n"
     ]
    }
   ],
   "source": [
    "#using function outer\n",
    "u = np.array([1,3,5,7])\n",
    "v = np.array([2,4,6,8])\n",
    "print(np.outer(u,v))"
   ]
  },
  {
   "cell_type": "code",
   "execution_count": 3,
   "metadata": {},
   "outputs": [
    {
     "name": "stdout",
     "output_type": "stream",
     "text": [
      "[[ 2  4  6  8]\n",
      " [ 6 12 18 24]\n",
      " [10 20 30 40]\n",
      " [14 28 42 56]]\n"
     ]
    }
   ],
   "source": [
    "#Using a nested for loop or list comprehension\n",
    "u = np.array([1,3,5,7])\n",
    "v = np.array([2,4,6,8])\n",
    "uv_outerproduct = np.array([i*j for i in u for j in v ]).reshape(4,4)\n",
    "print((uv_outerproduct))\n"
   ]
  },
  {
   "cell_type": "code",
   "execution_count": 4,
   "metadata": {},
   "outputs": [
    {
     "name": "stdout",
     "output_type": "stream",
     "text": [
      "[[ 2  4  6  8]\n",
      " [ 6 12 18 24]\n",
      " [10 20 30 40]\n",
      " [14 28 42 56]]\n"
     ]
    }
   ],
   "source": [
    "#Using numpy broadcasting operations\n",
    "u = np.array([1,3,5,7])\n",
    "v = np.array([2,4,6,8])\n",
    "z = np.tile(u,(4,1)).T\n",
    "uv_broadcast = z*v\n",
    "print(uv_broadcast)"
   ]
  },
  {
   "cell_type": "markdown",
   "metadata": {},
   "source": [
    "3\\. Create a 10 by 6 matrix of random uniform numbers. Set all rows with any entry less than 0.1 to be zero\n",
    "\n",
    "Hint: Use the following numpy functions - np.random.random, np.any as well as Boolean indexing and the axis argument."
   ]
  },
  {
   "cell_type": "code",
   "execution_count": 5,
   "metadata": {},
   "outputs": [
    {
     "name": "stdout",
     "output_type": "stream",
     "text": [
      "[[0.69835648 0.37777841 0.10490678 0.71403828 0.59243252 0.50569909]\n",
      " [0.23895973 0.1911337  0.27521189 0.13673135 0.79156911 0.88256325]\n",
      " [0.01480609 0.56390475 0.15108233 0.20417395 0.07536492 0.54722834]\n",
      " [0.01456864 0.00567932 0.21575203 0.51232835 0.72420421 0.65464229]\n",
      " [0.02912059 0.67592836 0.24576341 0.54413445 0.94001886 0.69058588]\n",
      " [0.51300334 0.32111122 0.04468168 0.06023564 0.73999833 0.51438887]\n",
      " [0.66139071 0.19653044 0.95003704 0.13248103 0.61497459 0.99821707]\n",
      " [0.40359742 0.05104663 0.29236678 0.08878019 0.08821156 0.56849036]\n",
      " [0.77210113 0.51725783 0.69006724 0.35915885 0.75339727 0.72539304]\n",
      " [0.85020463 0.6163305  0.33024925 0.78458591 0.91453486 0.20117422]] \n",
      "\n",
      "[[False False False False False False]\n",
      " [False False False False False False]\n",
      " [ True False False False  True False]\n",
      " [ True  True False False False False]\n",
      " [ True False False False False False]\n",
      " [False False  True  True False False]\n",
      " [False False False False False False]\n",
      " [False  True False  True  True False]\n",
      " [False False False False False False]\n",
      " [False False False False False False]] \n",
      "\n",
      "[False False  True  True  True  True False  True False False] \n",
      "\n",
      "[[0.69835648 0.37777841 0.10490678 0.71403828 0.59243252 0.50569909]\n",
      " [0.23895973 0.1911337  0.27521189 0.13673135 0.79156911 0.88256325]\n",
      " [0.         0.         0.         0.         0.         0.        ]\n",
      " [0.         0.         0.         0.         0.         0.        ]\n",
      " [0.         0.         0.         0.         0.         0.        ]\n",
      " [0.         0.         0.         0.         0.         0.        ]\n",
      " [0.66139071 0.19653044 0.95003704 0.13248103 0.61497459 0.99821707]\n",
      " [0.         0.         0.         0.         0.         0.        ]\n",
      " [0.77210113 0.51725783 0.69006724 0.35915885 0.75339727 0.72539304]\n",
      " [0.85020463 0.6163305  0.33024925 0.78458591 0.91453486 0.20117422]]\n"
     ]
    }
   ],
   "source": [
    "M = np.random.random((10,6))\n",
    "print(M,\"\\n\")\n",
    "M_bool = M<0.1\n",
    "print(M_bool,\"\\n\")\n",
    "new_M = np.any(M_bool,1)\n",
    "print(new_M,\"\\n\")\n",
    "M[new_M]=0\n",
    "print(M)"
   ]
  },
  {
   "cell_type": "markdown",
   "metadata": {},
   "source": [
    "4\\. Use np.linspace to create an array of 100 numbers between 0 and 2π (includsive).\n",
    "\n",
    "  * Extract every 10th element using slice notation\n",
    "  * Reverse the array using slice notation\n",
    "  * Extract elements where the absolute difference between the sine and cosine functions evaluated at that element is less than 0.1\n",
    "  * Make a plot showing the sin and cos functions and indicate where they are close"
   ]
  },
  {
   "cell_type": "code",
   "execution_count": 6,
   "metadata": {},
   "outputs": [
    {
     "name": "stdout",
     "output_type": "stream",
     "text": [
      "[0.         0.06346652 0.12693304 0.19039955 0.25386607 0.31733259\n",
      " 0.38079911 0.44426563 0.50773215 0.57119866 0.63466518 0.6981317\n",
      " 0.76159822 0.82506474 0.88853126 0.95199777 1.01546429 1.07893081\n",
      " 1.14239733 1.20586385 1.26933037 1.33279688 1.3962634  1.45972992\n",
      " 1.52319644 1.58666296 1.65012947 1.71359599 1.77706251 1.84052903\n",
      " 1.90399555 1.96746207 2.03092858 2.0943951  2.15786162 2.22132814\n",
      " 2.28479466 2.34826118 2.41172769 2.47519421 2.53866073 2.60212725\n",
      " 2.66559377 2.72906028 2.7925268  2.85599332 2.91945984 2.98292636\n",
      " 3.04639288 3.10985939 3.17332591 3.23679243 3.30025895 3.36372547\n",
      " 3.42719199 3.4906585  3.55412502 3.61759154 3.68105806 3.74452458\n",
      " 3.8079911  3.87145761 3.93492413 3.99839065 4.06185717 4.12532369\n",
      " 4.1887902  4.25225672 4.31572324 4.37918976 4.44265628 4.5061228\n",
      " 4.56958931 4.63305583 4.69652235 4.75998887 4.82345539 4.88692191\n",
      " 4.95038842 5.01385494 5.07732146 5.14078798 5.2042545  5.26772102\n",
      " 5.33118753 5.39465405 5.45812057 5.52158709 5.58505361 5.64852012\n",
      " 5.71198664 5.77545316 5.83891968 5.9023862  5.96585272 6.02931923\n",
      " 6.09278575 6.15625227 6.21971879 6.28318531] \n",
      "\n",
      "[0.         0.57119866 1.14239733 1.71359599 2.28479466 2.85599332\n",
      " 3.42719199 3.99839065 4.56958931 5.14078798 5.71198664 6.28318531] \n",
      "\n",
      "[6.28318531 6.21971879 6.15625227 6.09278575 6.02931923 5.96585272\n",
      " 5.9023862  5.83891968 5.77545316 5.71198664 5.64852012 5.58505361\n",
      " 5.52158709 5.45812057 5.39465405 5.33118753 5.26772102 5.2042545\n",
      " 5.14078798 5.07732146 5.01385494 4.95038842 4.88692191 4.82345539\n",
      " 4.75998887 4.69652235 4.63305583 4.56958931 4.5061228  4.44265628\n",
      " 4.37918976 4.31572324 4.25225672 4.1887902  4.12532369 4.06185717\n",
      " 3.99839065 3.93492413 3.87145761 3.8079911  3.74452458 3.68105806\n",
      " 3.61759154 3.55412502 3.4906585  3.42719199 3.36372547 3.30025895\n",
      " 3.23679243 3.17332591 3.10985939 3.04639288 2.98292636 2.91945984\n",
      " 2.85599332 2.7925268  2.72906028 2.66559377 2.60212725 2.53866073\n",
      " 2.47519421 2.41172769 2.34826118 2.28479466 2.22132814 2.15786162\n",
      " 2.0943951  2.03092858 1.96746207 1.90399555 1.84052903 1.77706251\n",
      " 1.71359599 1.65012947 1.58666296 1.52319644 1.45972992 1.3962634\n",
      " 1.33279688 1.26933037 1.20586385 1.14239733 1.07893081 1.01546429\n",
      " 0.95199777 0.88853126 0.82506474 0.76159822 0.6981317  0.63466518\n",
      " 0.57119866 0.50773215 0.44426563 0.38079911 0.31733259 0.25386607\n",
      " 0.19039955 0.12693304 0.06346652 0.        ] \n",
      "\n",
      "[0.76159822 0.82506474 3.87145761 3.93492413] \n",
      "\n"
     ]
    },
    {
     "data": {
      "image/png": "[encoded data removed]",
      "text/plain": [
       "<Figure size 432x288 with 1 Axes>"
      ]
     },
     "metadata": {
      "needs_background": "light"
     },
     "output_type": "display_data"
    },
    {
     "name": "stdout",
     "output_type": "stream",
     "text": [
      "The sin and cos graphs are close at:  [0.76159822 0.82506474 3.87145761 3.93492413]\n"
     ]
    }
   ],
   "source": [
    "\n",
    "numArr = np.linspace(0,2*np.pi,100)\n",
    "print(numArr,'\\n')\n",
    "\n",
    "tenth_elem = numArr[::10-1]\n",
    "print(tenth_elem,'\\n')\n",
    "\n",
    "revArr = numArr[::-1]\n",
    "print(revArr,'\\n')\n",
    "\n",
    "extractArr = numArr[abs(np.sin(numArr)-np.cos(numArr))<0.1]\n",
    "print(extractArr,'\\n')\n",
    "\n",
    "import matplotlib.pyplot as plt\n",
    "%matplotlib inline \n",
    "# tell jupyter to plot inline\n",
    "\n",
    "x = numArr\n",
    "y1 = np.sin(numArr)\n",
    "y2 = np.cos(numArr)\n",
    "plt.plot(x,y1,label=\"sin(x)\")\n",
    "plt.plot(x,y2,label=\"cos(x)\")\n",
    "plt.legend()\n",
    "plt.xlabel(\"x values from 0 to 2*pi\")\n",
    "plt.ylabel(\"sin and cos\")\n",
    "plt.show()\n",
    "print(\"The sin and cos graphs are close at: \",extractArr)\n",
    "\n",
    "\n"
   ]
  },
  {
   "cell_type": "markdown",
   "metadata": {},
   "source": [
    "5\\. Create a matrix that shows the 10 by 10 multiplication table.\n",
    "\n",
    " * Find the trace of the matrix\n",
    " * Extract the anto-diagonal (this should be ```array([10, 18, 24, 28, 30, 30, 28, 24, 18, 10])```)\n",
    " * Extract the diagnoal offset by 1 upwards (this should be ```array([ 2,  6, 12, 20, 30, 42, 56, 72, 90])```)"
   ]
  },
  {
   "cell_type": "code",
   "execution_count": 7,
   "metadata": {},
   "outputs": [
    {
     "name": "stdout",
     "output_type": "stream",
     "text": [
      "[ 1  2  3  4  5  6  7  8  9 10] \n",
      "\n",
      "[[  1   2   3   4   5   6   7   8   9  10]\n",
      " [  2   4   6   8  10  12  14  16  18  20]\n",
      " [  3   6   9  12  15  18  21  24  27  30]\n",
      " [  4   8  12  16  20  24  28  32  36  40]\n",
      " [  5  10  15  20  25  30  35  40  45  50]\n",
      " [  6  12  18  24  30  36  42  48  54  60]\n",
      " [  7  14  21  28  35  42  49  56  63  70]\n",
      " [  8  16  24  32  40  48  56  64  72  80]\n",
      " [  9  18  27  36  45  54  63  72  81  90]\n",
      " [ 10  20  30  40  50  60  70  80  90 100]] \n",
      "\n",
      "[10 18 24 28 30 30 28 24 18 10] \n",
      "\n",
      "[ 2  6 12 20 30 42 56 72 90]\n"
     ]
    }
   ],
   "source": [
    "n = np.arange(1,11,1)\n",
    "print(n,'\\n')\n",
    "M = np.outer(n,n)\n",
    "print(M,'\\n')\n",
    "M_fliplr = np.fliplr(M) #It flips the matrix left right.\n",
    "antiDiag = np.diag(M_fliplr)\n",
    "print(antiDiag,'\\n')\n",
    "print(np.diag(M,1))#np.diag(Matrix,+offset or-offset)"
   ]
  },
  {
   "cell_type": "markdown",
   "metadata": {},
   "source": [
    "6\\. Use broadcasting to create a grid of distances\n",
    "\n",
    "Route 66 crosses the following cities in the US: Chicago, Springfield, Saint-Louis, Tulsa, Oklahoma City, Amarillo, Santa Fe, Albuquerque, Flagstaff, Los Angeles\n",
    "The corresponding positions in miles are: 0, 198, 303, 736, 871, 1175, 1475, 1544, 1913, 2448\n",
    "\n",
    "  * Construct a 2D grid of distances among each city along Route 66\n",
    "  * Convert that in km (those savages...)"
   ]
  },
  {
   "cell_type": "code",
   "execution_count": 8,
   "metadata": {},
   "outputs": [
    {
     "name": "stdout",
     "output_type": "stream",
     "text": [
      "[[   0    0    0    0    0    0    0    0    0    0]\n",
      " [ 198  198  198  198  198  198  198  198  198  198]\n",
      " [ 303  303  303  303  303  303  303  303  303  303]\n",
      " [ 736  736  736  736  736  736  736  736  736  736]\n",
      " [ 871  871  871  871  871  871  871  871  871  871]\n",
      " [1175 1175 1175 1175 1175 1175 1175 1175 1175 1175]\n",
      " [1475 1475 1475 1475 1475 1475 1475 1475 1475 1475]\n",
      " [1544 1544 1544 1544 1544 1544 1544 1544 1544 1544]\n",
      " [1913 1913 1913 1913 1913 1913 1913 1913 1913 1913]\n",
      " [2448 2448 2448 2448 2448 2448 2448 2448 2448 2448]]\n",
      "\n",
      " [[   0  198  303  736  871 1175 1475 1544 1913 2448]\n",
      " [ 198    0  105  538  673  977 1277 1346 1715 2250]\n",
      " [ 303  105    0  433  568  872 1172 1241 1610 2145]\n",
      " [ 736  538  433    0  135  439  739  808 1177 1712]\n",
      " [ 871  673  568  135    0  304  604  673 1042 1577]\n",
      " [1175  977  872  439  304    0  300  369  738 1273]\n",
      " [1475 1277 1172  739  604  300    0   69  438  973]\n",
      " [1544 1346 1241  808  673  369   69    0  369  904]\n",
      " [1913 1715 1610 1177 1042  738  438  369    0  535]\n",
      " [2448 2250 2145 1712 1577 1273  973  904  535    0]]\n",
      "\n",
      " In kilometers, we have:\n",
      "[[   0.   316.8  484.8 1177.6 1393.6 1880.  2360.  2470.4 3060.8 3916.8]\n",
      " [ 316.8    0.   168.   860.8 1076.8 1563.2 2043.2 2153.6 2744.  3600. ]\n",
      " [ 484.8  168.     0.   692.8  908.8 1395.2 1875.2 1985.6 2576.  3432. ]\n",
      " [1177.6  860.8  692.8    0.   216.   702.4 1182.4 1292.8 1883.2 2739.2]\n",
      " [1393.6 1076.8  908.8  216.     0.   486.4  966.4 1076.8 1667.2 2523.2]\n",
      " [1880.  1563.2 1395.2  702.4  486.4    0.   480.   590.4 1180.8 2036.8]\n",
      " [2360.  2043.2 1875.2 1182.4  966.4  480.     0.   110.4  700.8 1556.8]\n",
      " [2470.4 2153.6 1985.6 1292.8 1076.8  590.4  110.4    0.   590.4 1446.4]\n",
      " [3060.8 2744.  2576.  1883.2 1667.2 1180.8  700.8  590.4    0.   856. ]\n",
      " [3916.8 3600.  3432.  2739.2 2523.2 2036.8 1556.8 1446.4  856.     0. ]]\n"
     ]
    }
   ],
   "source": [
    "M = np.array([0, 198, 303, 736, 871, 1175, 1475, 1544, 1913, 2448])\n",
    "#print(M)\n",
    "M_prime = np.tile(M,(len(M),1)).T\n",
    "print(M_prime)\n",
    "dist = abs(M_prime-M)\n",
    "print('\\n',dist)\n",
    "print(\"\\n In kilometers, we have:\")\n",
    "print(dist*8/5)\n",
    "      "
   ]
  },
  {
   "cell_type": "markdown",
   "metadata": {},
   "source": [
    "7\\. Prime numbers sieve: compute the prime numbers in the 0-N (N=99 to start with) range with a sieve (mask).\n",
    "  * Constract a shape (100,) boolean array, the mask\n",
    "  * Identify the multiples of each number starting from 2 and set accordingly the corresponding mask element\n",
    "  * Apply the mask to obtain an array of ordered prime numbers\n",
    "  * Check the performances (timeit); how does it scale with N?\n",
    "  * Implement the optimization suggested in the [sieve of Eratosthenes](https://en.wikipedia.org/wiki/Sieve_of_Eratosthenes)"
   ]
  },
  {
   "cell_type": "code",
   "execution_count": 3,
   "metadata": {},
   "outputs": [
    {
     "name": "stdout",
     "output_type": "stream",
     "text": [
      "[ 0  1  2  3  4  5  6  7  8  9 10 11 12 13 14 15 16 17 18 19 20 21 22 23\n",
      " 24 25 26 27 28 29 30 31 32 33 34 35 36 37 38 39 40 41 42 43 44 45 46 47\n",
      " 48 49 50 51 52 53 54 55 56 57 58 59 60 61 62 63 64 65 66 67 68 69 70 71\n",
      " 72 73 74 75 76 77 78 79 80 81 82 83 84 85 86 87 88 89 90 91 92 93 94 95\n",
      " 96 97 98 99]\n",
      "[ True  True  True  True  True  True  True  True  True  True  True  True\n",
      "  True  True  True  True  True  True  True  True  True  True  True  True\n",
      "  True  True  True  True  True  True  True  True  True  True  True  True\n",
      "  True  True  True  True  True  True  True  True  True  True  True  True\n",
      "  True  True  True  True  True  True  True  True  True  True  True  True\n",
      "  True  True  True  True  True  True  True  True  True  True  True  True\n",
      "  True  True  True  True  True  True  True  True  True  True  True  True\n",
      "  True  True  True  True  True  True  True  True  True  True  True  True\n",
      "  True  True  True  True]\n"
     ]
    },
    {
     "data": {
      "text/plain": [
       "array([ 0,  1,  2,  3,  5,  7, 11, 13, 17, 19, 23, 29, 31, 37, 41, 43, 47,\n",
       "       53, 59, 61, 67, 71, 73, 79, 83, 89, 97])"
      ]
     },
     "execution_count": 3,
     "metadata": {},
     "output_type": "execute_result"
    }
   ],
   "source": [
    "import numpy as np\n",
    "\n",
    "def primeNumbers(N):\n",
    "    numbers = np.arange(N)\n",
    "    print(numbers)\n",
    "    #print(len(numbers))\n",
    "    boolArr = np.array([True]*N)\n",
    "    print((boolArr))\n",
    "    #print(len(boolArr),'\\n')\n",
    "\n",
    "    for i in range(len(boolArr)):\n",
    "        if i==0 or i==1 or i==2:\n",
    "            continue \n",
    "        for j in range(i):\n",
    "            if j==0 or j==1:\n",
    "                continue\n",
    "            if i%j==0:\n",
    "                boolArr[i]=False\n",
    "                break\n",
    "    #print(boolArr,'\\n')\n",
    "    return (numbers[boolArr])#masking process\n",
    "primeNumbers(100)    \n",
    "\n",
    "    \n",
    "    "
   ]
  },
  {
   "cell_type": "code",
   "execution_count": 10,
   "metadata": {},
   "outputs": [
    {
     "name": "stdout",
     "output_type": "stream",
     "text": [
      "211 µs ± 4.74 µs per loop (mean ± std. dev. of 7 runs, 10000 loops each)\n",
      "455 µs ± 5.83 µs per loop (mean ± std. dev. of 7 runs, 1000 loops each)\n",
      "1.16 ms ± 149 µs per loop (mean ± std. dev. of 7 runs, 1000 loops each)\n",
      "1.94 ms ± 190 µs per loop (mean ± std. dev. of 7 runs, 1000 loops each)\n",
      "3.3 ms ± 205 µs per loop (mean ± std. dev. of 7 runs, 100 loops each)\n"
     ]
    }
   ],
   "source": [
    "%timeit primeNumbers(100)    \n",
    "%timeit primeNumbers(200)    \n",
    "%timeit primeNumbers(300)    \n",
    "%timeit primeNumbers(400)    \n",
    "%timeit primeNumbers(500)    \n"
   ]
  },
  {
   "cell_type": "code",
   "execution_count": 11,
   "metadata": {},
   "outputs": [
    {
     "name": "stdout",
     "output_type": "stream",
     "text": [
      "[ 0  1  2  3  5  7 11 13 17 19 23 29 31 37 41 43 47 53 59 61 67 71 73 79\n",
      " 83 89 97]\n",
      "220 µs ± 5.67 µs per loop (mean ± std. dev. of 7 runs, 1000 loops each)\n",
      "628 µs ± 23.9 µs per loop (mean ± std. dev. of 7 runs, 1000 loops each)\n",
      "1.07 ms ± 68.6 µs per loop (mean ± std. dev. of 7 runs, 1000 loops each)\n",
      "1.6 ms ± 40.2 µs per loop (mean ± std. dev. of 7 runs, 1000 loops each)\n",
      "2.02 ms ± 36.1 µs per loop (mean ± std. dev. of 7 runs, 1000 loops each)\n"
     ]
    }
   ],
   "source": [
    "#Implement the optimization suggested in the sieve of Eratosthenes\n",
    "'''\n",
    "Input: an integer n > 1.\n",
    " \n",
    " Let A be an array of Boolean values, indexed by integers 2 to n,\n",
    " initially all set to true.\n",
    " \n",
    " for i = 2, 3, 4, ..., not exceeding √n:\n",
    "   if A[i] is true:\n",
    "     for j = i2, i2+i, i2+2i, i2+3i, ..., not exceeding n:\n",
    "       A[j] := false.\n",
    " \n",
    " Output: all i such that A[i] is true.\n",
    " '''\n",
    "def optimizedPrime(N):\n",
    "    A = np.array([True]*N)\n",
    "    B = np.arange(0,N,1)\n",
    "    for i in np.arange(2,np.sqrt(N),1):\n",
    "        i = int(i)\n",
    "        if A[i]==True:\n",
    "            jList = [((i)**2) + (k*(i)) for k in range(N)]\n",
    "            for j in jList:\n",
    "                if j<N:\n",
    "                    A[j]=False\n",
    "    return(B[A])\n",
    "print(optimizedPrime(100))\n",
    "\n",
    "%timeit optimizedPrime(100)    \n",
    "%timeit optimizedPrime(200)    \n",
    "%timeit optimizedPrime(300)    \n",
    "%timeit optimizedPrime(400)    \n",
    "%timeit optimizedPrime(500)    \n",
    "\n",
    "\n",
    "#This takes half the time than previous algorithm.\n",
    "\n"
   ]
  },
  {
   "cell_type": "markdown",
   "metadata": {},
   "source": [
    "8\\. Diffusion using random walk\n",
    "\n",
    "Consider a simple random walk process: at each step in time, a walker jumps right or left (+1 or -1) with equal probability. The goal is to find the typical distance from the origin of a random walker after a given amount of time. \n",
    "To do that, let's simulate many walkers and create a 2D array with each walker as a raw and the actual time evolution as columns\n",
    "\n",
    "  * Take 1000 walkers and let them walk for 200 steps\n",
    "  * Use randint to create a 2D array of size walkers x steps with values -1 or 1\n",
    "  * Build the actual walking distances for each walker (i.e. another 2D array \"summing on each raw\")\n",
    "  * Take the square of that 2D array (elementwise)\n",
    "  * Compute the mean of the squared distances at each step (i.e. the mean along the columns)\n",
    "  * Plot the average distances (sqrt(distance\\*\\*2)) as a function of time (step)\n",
    "  \n",
    "Did you get what you expected?"
   ]
  },
  {
   "cell_type": "code",
   "execution_count": 12,
   "metadata": {},
   "outputs": [
    {
     "name": "stdout",
     "output_type": "stream",
     "text": [
      "[[-1  1 -1 ...  1  1 -1]\n",
      " [ 1  1  1 ... -1 -1 -1]\n",
      " [ 1  1 -1 ... -1 -1 -1]\n",
      " ...\n",
      " [-1  1  1 ...  1  1  1]\n",
      " [ 1  1 -1 ...  1 -1 -1]\n",
      " [ 1 -1 -1 ...  1 -1 -1]] \n",
      "\n",
      "[[ -1   0  -1 ...   0   1   0]\n",
      " [  1   2   3 ...   6   5   4]\n",
      " [  1   2   1 ... -30 -31 -32]\n",
      " ...\n",
      " [ -1   0   1 ...  -2  -1   0]\n",
      " [  1   2   1 ...  -4  -5  -6]\n",
      " [  1   0  -1 ...   0  -1  -2]] \n",
      "\n",
      "[  1.      1.952   2.872   3.944   4.968   5.812   6.912   8.048   9.056\n",
      "   9.98   11.024  12.268  13.608  14.512  15.656  16.9    17.232  17.752\n",
      "  18.64   20.012  20.888  21.948  23.112  24.364  25.272  26.188  27.976\n",
      "  28.96   30.224  31.34   32.624  33.952  35.12   35.616  37.064  38.54\n",
      "  39.096  39.48   40.408  41.82   43.52   44.12   45.104  46.704  46.968\n",
      "  47.56   48.744  49.5    50.64   51.772  52.072  52.904  53.72   53.864\n",
      "  55.04   56.024  57.512  58.48   60.184  60.9    61.768  62.056  63.952\n",
      "  65.568  66.4    68.248  69.688  70.676  70.744  71.2    72.424  72.636\n",
      "  73.64   74.276  76.048  77.388  78.304  78.644  79.72   81.024  81.552\n",
      "  83.5    84.352  84.76   85.568  85.948  85.936  87.796  89.232  90.856\n",
      "  91.296  91.776  92.624  93.708  95.056  96.112  97.392  98.252  98.584\n",
      "  99.312  99.112  99.728 100.352 101.972 102.648 104.568 105.344 106.348\n",
      " 107.616 107.836 108.496 110.304 111.592 111.744 112.312 113.668 112.352\n",
      " 114.072 114.176 114.232 114.888 116.608 117.248 118.676 120.176 120.924\n",
      " 120.776 120.868 121.184 122.66  123.872 123.924 124.408 125.036 126.232\n",
      " 128.288 128.176 129.744 130.384 130.78  132.264 133.712 135.12  136.268\n",
      " 137.448 138.208 138.76  140.488 141.432 143.064 145.224 146.028 147.072\n",
      " 147.464 148.448 149.508 150.48  151.8   152.6   154.148 154.96  155.584\n",
      " 156.704 156.892 157.328 158.804 159.016 159.024 161.008 163.524 165.896\n",
      " 168.148 168.656 169.164 170.    171.176 173.024 173.544 175.856 176.684\n",
      " 177.88  177.312 179.032 180.228 182.36  183.348 185.704 186.996 188.648\n",
      " 188.868 189.472 189.856 189.824 190.98  191.84  192.132 191.92  191.32\n",
      " 191.528 194.156] \n",
      "\n"
     ]
    },
    {
     "data": {
      "text/plain": [
       "<function matplotlib.pyplot.show(*args, **kw)>"
      ]
     },
     "execution_count": 12,
     "metadata": {},
     "output_type": "execute_result"
    },
    {
     "data": {
      "image/png": "[encoded data removed]",
      "text/plain": [
       "<Figure size 432x288 with 1 Axes>"
      ]
     },
     "metadata": {
      "needs_background": "light"
     },
     "output_type": "display_data"
    }
   ],
   "source": [
    "rand_Walker =  np.random.choice([-1,+1],(1000,200))\n",
    "print(rand_Walker,'\\n')\n",
    "walker_dist = np.cumsum(rand_Walker,axis=1)\n",
    "print(walker_dist,'\\n')\n",
    "dist_squared = np.square(walker_dist)\n",
    "mean_squared = np.mean(dist_squared,axis=0)\n",
    "print(mean_squared,'\\n')\n",
    "\n",
    "%matplotlib inline \n",
    "rms_values = np.sqrt(mean_squared)\n",
    "steps = range(200)\n",
    "plt.plot(steps,rms_values)\n",
    "plt.show"
   ]
  },
  {
   "cell_type": "markdown",
   "metadata": {},
   "source": [
    "9\\. Analyze a data file \n",
    "  * Download the population of hares, lynxes and carrots at the beginning of the last century.\n",
    "    ```python\n",
    "    ! wget https://www.dropbox.com/s/3vigxoqayo389uc/populations.txt\n",
    "    ```\n",
    "\n",
    "  * Check the content by looking within the file\n",
    "  * Load the data (use an appropriate numpy method) into a 2D array\n",
    "  * Create arrays out of the columns, the arrays being (in order): *year*, *hares*, *lynxes*, *carrots* \n",
    "  * Plot the 3 populations over the years\n",
    "  * Compute the main statistical properties of the dataset (mean, std, correlations, etc.)\n",
    "  * Which species has the highest population each year?\n",
    "\n",
    "Do you feel there is some evident correlation here? [Studies](https://www.enr.gov.nt.ca/en/services/lynx/lynx-snowshoe-hare-cycle) tend to believe so."
   ]
  },
  {
   "cell_type": "code",
   "execution_count": 13,
   "metadata": {},
   "outputs": [
    {
     "name": "stdout",
     "output_type": "stream",
     "text": [
      "[[ 1900 30000  4000 48300]\n",
      " [ 1901 47200  6100 48200]\n",
      " [ 1902 70200  9800 41500]\n",
      " [ 1903 77400 35200 38200]\n",
      " [ 1904 36300 59400 40600]\n",
      " [ 1905 20600 41700 39800]\n",
      " [ 1906 18100 19000 38600]\n",
      " [ 1907 21400 13000 42300]\n",
      " [ 1908 22000  8300 44500]\n",
      " [ 1909 25400  9100 42100]\n",
      " [ 1910 27100  7400 46000]\n",
      " [ 1911 40300  8000 46800]\n",
      " [ 1912 57000 12300 43800]\n",
      " [ 1913 76600 19500 40900]\n",
      " [ 1914 52300 45700 39400]\n",
      " [ 1915 19500 51100 39000]\n",
      " [ 1916 11200 29700 36700]\n",
      " [ 1917  7600 15800 41800]\n",
      " [ 1918 14600  9700 43300]\n",
      " [ 1919 16200 10100 41300]\n",
      " [ 1920 24700  8600 47300]]\n"
     ]
    },
    {
     "data": {
      "text/plain": [
       "<function matplotlib.pyplot.show(*args, **kw)>"
      ]
     },
     "execution_count": 13,
     "metadata": {},
     "output_type": "execute_result"
    },
    {
     "data": {
      "image/png": "[encoded data removed]",
      "text/plain": [
       "<Figure size 432x288 with 1 Axes>"
      ]
     },
     "metadata": {
      "needs_background": "light"
     },
     "output_type": "display_data"
    }
   ],
   "source": [
    "import csv\n",
    "from io import StringIO\n",
    "file = \"C:\\\\Users\\\\TEST\\\\Desktop\\\\Physics of Data\\\\Laboratory for computational physics\\\\populations.txt\"\n",
    "my_data = np.loadtxt(file,comments='#').astype(int)\n",
    "print((my_data))\n",
    "year = my_data[:,0]\n",
    "#print(year)\n",
    "hares = my_data[:,1]\n",
    "lynxes = my_data[:,2]\n",
    "carrots = my_data[:,3]\n",
    "plt.plot(year,hares,label='hares')\n",
    "plt.plot(year,lynxes,label='lynxes')\n",
    "plt.plot(year,carrots,label='carrots')\n",
    "plt.xlabel(\"Years\")\n",
    "plt.legend()\n",
    "plt.show\n"
   ]
  },
  {
   "cell_type": "code",
   "execution_count": 14,
   "metadata": {},
   "outputs": [
    {
     "name": "stdout",
     "output_type": "stream",
     "text": [
      "\t    correlation coeff\t\tP_values\n",
      "Hares\t -0.38917662062641645 \t 0.08120591933941333\n",
      "Lynxes\t -0.02544805962502994 \t 0.9128106746672549\n",
      "Carrots\t -0.1363332130403686 \t 0.5556843861735965\n",
      "\n",
      "\n",
      "Mean hares:  34080.95238095238\n",
      "Mean Lynxes:  20166.666666666668\n",
      "Mean carrots:  42400.0\n",
      "\n",
      "\n",
      "Stdev hares:  20897.906458089667\n",
      "Stdev lynxes:  16254.591536908763\n",
      "Stdev carrots:  3322.5062255844787\n"
     ]
    }
   ],
   "source": [
    "import scipy.stats as sp\n",
    "corr1,p_value1=sp.pearsonr(year, hares)\n",
    "corr2,p_value2=sp.pearsonr(year, lynxes)\n",
    "corr3,p_value3=sp.pearsonr(year, carrots)\n",
    "print(\"\\t    correlation coeff\\t\\tP_values\")\n",
    "print(\"Hares\\t\",corr1,\"\\t\",p_value1)\n",
    "print(\"Lynxes\\t\",corr2,\"\\t\",p_value2)\n",
    "print(\"Carrots\\t\",corr3,\"\\t\",p_value3)\n",
    "print('\\n')\n",
    "print(\"Mean hares: \",np.mean(hares))\n",
    "print(\"Mean Lynxes: \",np.mean(lynxes))\n",
    "print(\"Mean carrots: \",np.mean(carrots))\n",
    "print('\\n')\n",
    "print(\"Stdev hares: \",np.std(hares))\n",
    "print(\"Stdev lynxes: \",np.std(lynxes))\n",
    "print(\"Stdev carrots: \",np.std(carrots))\n",
    "\n"
   ]
  },
  {
   "cell_type": "code",
   "execution_count": 15,
   "metadata": {},
   "outputs": [
    {
     "name": "stdout",
     "output_type": "stream",
     "text": [
      "Maximum population for each year comparison\n",
      "1900 : Carrots\n",
      "1901 : Carrots\n",
      "1902 : Hares\n",
      "1903 : Hares\n",
      "1904 : Lynxes\n",
      "1905 : Lynxes\n",
      "1906 : Carrots\n",
      "1907 : Carrots\n",
      "1908 : Carrots\n",
      "1909 : Carrots\n",
      "1910 : Carrots\n",
      "1911 : Carrots\n",
      "1912 : Hares\n",
      "1913 : Hares\n",
      "1914 : Hares\n",
      "1915 : Lynxes\n",
      "1916 : Carrots\n",
      "1917 : Carrots\n",
      "1918 : Carrots\n",
      "1919 : Carrots\n",
      "1920 : Carrots\n"
     ]
    }
   ],
   "source": [
    "print(\"Maximum population for each year comparison\")\n",
    "data_noYears = my_data[:,1:]#create new dataset without years in it.\n",
    "for i in range(len(data_noYears)):\n",
    "    j = np.argmax(data_noYears[i,:])\n",
    "    if j==0:\n",
    "        print(my_data[i,0],': Hares')\n",
    "    elif j==1:\n",
    "        print(my_data[i,0],': Lynxes')\n",
    "    else:\n",
    "        print(my_data[i,0],': Carrots')"
   ]
  }
 ],
 "metadata": {
  "kernelspec": {
   "display_name": "Python 3 (ipykernel)",
   "language": "python",
   "name": "python3"
  },
  "language_info": {
   "codemirror_mode": {
    "name": "ipython",
    "version": 3
   },
   "file_extension": ".py",
   "mimetype": "text/x-python",
   "name": "python",
   "nbconvert_exporter": "python",
   "pygments_lexer": "ipython3",
   "version": "3.9.13"
  }
 },
 "nbformat": 4,
 "nbformat_minor": 2
}
