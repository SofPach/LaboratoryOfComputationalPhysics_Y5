{
 "cells": [
  {
   "cell_type": "markdown",
   "metadata": {},
   "source": [
    "1\\. Write a function that converts number representation, bin<->dec<->hex. (Clearly using the corresponding python built-in functions is not fair..)"
   ]
  },
  {
   "cell_type": "code",
   "execution_count": 60,
   "metadata": {},
   "outputs": [],
   "source": [
    "def bindechex(numero, tipo):\n",
    "    \n",
    "    \n",
    "    #Bin-Dec\n",
    "    def bin_dec(b):\n",
    "        d=0\n",
    "        inv_b=b[::-1]\n",
    "        for i in range(len(a)):\n",
    "            d=d+int(inv_b[i])*2**i\n",
    "        return d\n",
    "    \n",
    "    \n",
    "    #Dec-Bin\n",
    "    def dec_bin(d):\n",
    "        b = ''\n",
    "        cociente = d\n",
    "        while cociente!=0:\n",
    "            resto = cociente%2\n",
    "            b = str(resto)+b\n",
    "            cociente = cociente//2\n",
    "        return b\n",
    "    \n",
    "    \n",
    "    #Dec-Hex\n",
    "    def dec_hex(d):\n",
    "        h_letras = {10:'A',11:'B',12:'C',13:'D',14:'E',15:'F'}\n",
    "        h = ''\n",
    "        cociente = d\n",
    "        while cociente!=0:\n",
    "            resto = cociente%16\n",
    "            if resto>=10:\n",
    "                resto=h_letras[resto]\n",
    "            h = str(resto)+h\n",
    "            cociente = cociente//16\n",
    "        return h\n",
    "    \n",
    "    \n",
    "    #Hex-Dec\n",
    "    def hex_dec(h):\n",
    "        h_letras = {'A':10,'B':11,'C':12,'D':13,'E':14,'F':15}\n",
    "        d=0\n",
    "        inv_h=h[::-1]\n",
    "        for i in range(len(inv_h)):\n",
    "            num=inv_h[i]\n",
    "            if num=='A'or num=='B'or num=='C'or num=='D'or num=='E'or num=='F':\n",
    "                num=h_letras[num]\n",
    "            d=d+int(num)*16**i\n",
    "        return d\n",
    "\n",
    "    if tipo=='bin':\n",
    "        print(numero, 'is a binary number')\n",
    "        print('Its decimal representation is:', bin_dec(numero))\n",
    "        print('Its hexadecimal representation is:', dec_hex(bin_dec(numero)))\n",
    "    elif tipo=='hex':\n",
    "        print(numero, 'is an hexadecimal number')\n",
    "        print('Its decimal representation is:', hex_dec(numero))\n",
    "        print('Its binary representation is:', dec_bin(hex_dec(numero)))\n",
    "    elif tipo=='dec':\n",
    "        print(numero, 'is a decimal number')\n",
    "        print('Its binary representation is:', dec_bin(numero))\n",
    "        print('Its hexadecimal representation is:', dec_hex(numero))\n",
    "    else:\n",
    "        print('Incorrect Number Type ')"
   ]
  },
  {
   "cell_type": "code",
   "execution_count": 64,
   "metadata": {},
   "outputs": [
    {
     "name": "stdout",
     "output_type": "stream",
     "text": [
      "15 is a decimal number\n",
      "Its binary representation is: 1111\n",
      "Its hexadecimal representation is: F\n"
     ]
    }
   ],
   "source": [
    "bindechex(15,'dec')"
   ]
  },
  {
   "cell_type": "markdown",
   "metadata": {},
   "source": [
    "2\\. Write a function that converts a 32 bit word into a single precision floating point (i.e. interprets the various bits as sign, mantissa and exponent)"
   ]
  },
  {
   "cell_type": "code",
   "execution_count": 11,
   "metadata": {},
   "outputs": [
    {
     "data": {
      "text/plain": [
       "'00000100000010101111111'"
      ]
     },
     "execution_count": 11,
     "metadata": {},
     "output_type": "execute_result"
    }
   ],
   "source": [
    "bit32='11000000100000100000010101111111'\n",
    "exp=bit32[9:]\n",
    "exp"
   ]
  },
  {
   "cell_type": "code",
   "execution_count": 96,
   "metadata": {},
   "outputs": [],
   "source": [
    "def conver(bit32):\n",
    "    sig=bit32[0]\n",
    "    exp=bit32[1:9]\n",
    "    man=bit32[9:31]\n",
    "    \n",
    "    #exp\n",
    "    k=0\n",
    "    num_d=0\n",
    "    for j in range(len(exp)-1,-1,-1):\n",
    "        dec=int(exp[j])*(2**k)\n",
    "        num_d=num_d+dec\n",
    "        k=k+1\n",
    "    exponente=num_d-127\n",
    "    \n",
    "    #mantisa\n",
    "    mantisa=1\n",
    "    for i in range(0,len(man)):\n",
    "        mantisa=mantisa+(int(man[i])*(2**(-(i+1))))\n",
    "    \n",
    "    \n",
    "    dec=((-1)**(int(sig)))*mantisa*(2**(exponente))\n",
    "    return dec"
   ]
  },
  {
   "cell_type": "code",
   "execution_count": 97,
   "metadata": {},
   "outputs": [
    {
     "data": {
      "text/plain": [
       "1.316553672920962e-36"
      ]
     },
     "execution_count": 97,
     "metadata": {},
     "output_type": "execute_result"
    }
   ],
   "source": [
    "conver('00000011111000000000000000000000')"
   ]
  },
  {
   "cell_type": "code",
   "execution_count": 98,
   "metadata": {},
   "outputs": [
    {
     "data": {
      "text/plain": [
       "-5.5"
      ]
     },
     "execution_count": 98,
     "metadata": {},
     "output_type": "execute_result"
    }
   ],
   "source": [
    "conver('11000000101100000000000000000000')"
   ]
  },
  {
   "cell_type": "markdown",
   "metadata": {},
   "source": [
    "3\\. Write a program to determine the underflow and overflow limits (within a factor of 2) for python on your computer. \n",
    "\n",
    "**Tips**: define two variables inizialized to 1 and halve/double them enough time to exceed the under/over-flow limits  "
   ]
  },
  {
   "cell_type": "code",
   "execution_count": 67,
   "metadata": {
    "scrolled": true
   },
   "outputs": [
    {
     "name": "stdout",
     "output_type": "stream",
     "text": [
      "1076\n",
      "5e-324\n"
     ]
    }
   ],
   "source": [
    "halve=1\n",
    "k=1\n",
    "while halve!=0:\n",
    "    num=halve\n",
    "    halve=halve/2\n",
    "    k=k+1\n",
    "print(k)\n",
    "print(num)  "
   ]
  },
  {
   "cell_type": "code",
   "execution_count": 68,
   "metadata": {},
   "outputs": [
    {
     "name": "stdout",
     "output_type": "stream",
     "text": [
      "8.98846567431158e+307\n",
      "1025\n"
     ]
    }
   ],
   "source": [
    "double=1.0\n",
    "num=double/2\n",
    "k=1\n",
    "while (double/2)==(num):\n",
    "    num=double\n",
    "    double=double*2\n",
    "    k=k+1\n",
    "print(num)\n",
    "print(k)"
   ]
  },
  {
   "cell_type": "markdown",
   "metadata": {},
   "source": [
    "4\\. Write a program to determine the machine precision\n",
    "\n",
    "**Tips**: define a new variable by adding a smaller and smaller value (proceeding similarly to prob. 2) to an original variable and check the point where the two are the same "
   ]
  },
  {
   "cell_type": "code",
   "execution_count": 76,
   "metadata": {},
   "outputs": [
    {
     "name": "stdout",
     "output_type": "stream",
     "text": [
      "5.551115123125783e-17\n"
     ]
    }
   ],
   "source": [
    "num=1\n",
    "k=1\n",
    "prec=1/2\n",
    "while num!=prec:\n",
    "    prec=num\n",
    "    num= num + k/2\n",
    "    k=k/2\n",
    "    \n",
    "print(k)   "
   ]
  },
  {
   "cell_type": "code",
   "execution_count": 78,
   "metadata": {},
   "outputs": [
    {
     "name": "stdout",
     "output_type": "stream",
     "text": [
      "2.220446049250313e-16\n"
     ]
    }
   ],
   "source": [
    "num = 1\n",
    "while (1+num)!=1:\n",
    "    num=num/2\n",
    "num=num*2\n",
    "print(num)"
   ]
  },
  {
   "cell_type": "markdown",
   "metadata": {},
   "source": [
    "5\\. Write a function that takes in input three parameters $a$, $b$ and $c$ and prints out the two solutions to the quadratic equation $ax^2+bx+c=0$ using the standard formula:\n",
    "$$\n",
    "x=\\frac{-b\\pm\\sqrt{b^2-4ac}}{2a}\n",
    "$$\n",
    "\n",
    "(a) use the program to compute the solution for $a=0.001$, $b=1000$ and $c=0.001$\n",
    "\n",
    "(b) re-express the standard solution formula by multiplying top and bottom by $-b\\mp\\sqrt{b^2-4ac}$ and again find the solution for $a=0.001$, $b=1000$ and $c=0.001$. How does it compare with what previously obtained? Why?\n",
    "\n",
    "(c) write a function that compute the roots of a quadratic equation accurately in all cases"
   ]
  },
  {
   "cell_type": "code",
   "execution_count": 79,
   "metadata": {},
   "outputs": [],
   "source": [
    "#a\n",
    "from math import sqrt\n",
    "\n",
    "def quad(a,b,c):\n",
    "    x1=(-b+sqrt(b**2-(4*a*c)))/(2*a)\n",
    "    x2=(-b-sqrt(b**2-(4*a*c)))/(2*a)\n",
    "    return x1, x2"
   ]
  },
  {
   "cell_type": "code",
   "execution_count": 80,
   "metadata": {},
   "outputs": [
    {
     "data": {
      "text/plain": [
       "(-9.999894245993346e-07, -999999.999999)"
      ]
     },
     "execution_count": 80,
     "metadata": {},
     "output_type": "execute_result"
    }
   ],
   "source": [
    "quad(0.001,1000,0.001)"
   ]
  },
  {
   "cell_type": "code",
   "execution_count": 81,
   "metadata": {},
   "outputs": [],
   "source": [
    "#b\n",
    "\n",
    "def quad2(a,b,c):\n",
    "    x1=((-b+sqrt(b**2-(4*a*c)))*(-b-sqrt(b**2-(4*a*c))))/(2*a*(-b-sqrt(b**2-(4*a*c))))\n",
    "    x2=((-b-sqrt(b**2-(4*a*c)))*(-b+sqrt(b**2-(4*a*c))))/(2*a*(-b+sqrt(b**2-(4*a*c))))\n",
    "    return x1, x2"
   ]
  },
  {
   "cell_type": "code",
   "execution_count": 82,
   "metadata": {},
   "outputs": [
    {
     "data": {
      "text/plain": [
       "(-9.999894245993346e-07, -999999.9999990001)"
      ]
     },
     "execution_count": 82,
     "metadata": {},
     "output_type": "execute_result"
    }
   ],
   "source": [
    "quad2(0.001,1000,0.001)"
   ]
  },
  {
   "cell_type": "code",
   "execution_count": 85,
   "metadata": {},
   "outputs": [],
   "source": [
    "#c\n",
    "\n",
    "def quadratic(a,b,c):#ax^2+bx+c=0\n",
    "    r=b**2-4*a*c\n",
    "    if r>0:\n",
    "        print(\"There are 2 roots:\")\n",
    "        x1=(-b+sqrt(r))/(2*a)\n",
    "        x2=(-b-sqrt(r))/(2*a)\n",
    "        print(x1,x2)\n",
    "    elif r==0:\n",
    "        print(\"There is 1 root:\")\n",
    "        x1=-b/(2*a)\n",
    "        print(x1)\n",
    "    else:\n",
    "        print(\"No roots.\")"
   ]
  },
  {
   "cell_type": "code",
   "execution_count": 86,
   "metadata": {},
   "outputs": [
    {
     "name": "stdout",
     "output_type": "stream",
     "text": [
      "There are 2 roots:\n",
      "-9.999894245993346e-07 -999999.999999\n"
     ]
    }
   ],
   "source": [
    "quadratic(0.001,1000,0.001)"
   ]
  },
  {
   "cell_type": "markdown",
   "metadata": {},
   "source": [
    "6\\. Write a program that implements the function $f(x)=x(x−1)$\n",
    "\n",
    "(a) Calculate the derivative of the function at the point $x = 1$ using the derivative definition:\n",
    "\n",
    "$$\n",
    "\\frac{{\\rm d}f}{{\\rm d}x} = \\lim_{\\delta\\to0} \\frac{f(x+\\delta)-f(x)}{\\delta}\n",
    "$$\n",
    "\n",
    "with $\\delta = 10^{−2}$. Calculate the true value of the same derivative analytically and compare with the answer your program gives. The two will not agree perfectly. Why not?\n",
    "\n",
    "(b) Repeat the calculation for $\\delta = 10^{−4}, 10^{−6}, 10^{−8}, 10^{−10}, 10^{−12}$ and $10^{−14}$. How does the accuracy scales with $\\delta$?"
   ]
  },
  {
   "cell_type": "code",
   "execution_count": 89,
   "metadata": {},
   "outputs": [],
   "source": [
    "def f(x):\n",
    "    return x*(x-1)"
   ]
  },
  {
   "cell_type": "code",
   "execution_count": 90,
   "metadata": {},
   "outputs": [],
   "source": [
    "#a\n",
    "\n",
    "def dev(x,delta):\n",
    "    return(f(x+delta)-f(x))/delta"
   ]
  },
  {
   "cell_type": "code",
   "execution_count": 94,
   "metadata": {},
   "outputs": [
    {
     "name": "stdout",
     "output_type": "stream",
     "text": [
      "1.010000000000001\n",
      "1.0000999999998899\n",
      "1.0000009999177333\n",
      "1.0000000039225287\n",
      "1.000000082840371\n",
      "1.0000889005833413\n",
      "0.9992007221626509\n"
     ]
    }
   ],
   "source": [
    "for i in [10**-2,10**-4,10**-6,10**-8,10**-10,10**-12,10**-14]:\n",
    "    print(dev(1,i))"
   ]
  },
  {
   "cell_type": "markdown",
   "metadata": {},
   "source": [
    "7\\. Consider the integral of the semicircle of radius 1:\n",
    "$$\n",
    "I=\\int_{-1}^{1} \\sqrt(1-x^2) {\\rm d}x\n",
    "$$\n",
    "which it's known to be $I=\\frac{\\pi}{2}=1.57079632679...$.\n",
    "Alternatively we can use the Riemann definition of the integral:\n",
    "$$\n",
    "I=\\lim_{N\\to\\infty} \\sum_{k=1}^{N} h y_k \n",
    "$$\n",
    "\n",
    "with $h=2/N$ the width of each of the $N$ slices the domain is divided into and where\n",
    "$y_k$ is the value of the function at the $k-$th slice.\n",
    "\n",
    "(a) Write a programe to compute the integral with $N=100$. How does the result compares to the true value?\n",
    "\n",
    "(b) How much can $N$ be increased if the computation needs to be run in less than a second? What is the gain in running it for 1 minute? \n"
   ]
  },
  {
   "cell_type": "code",
   "execution_count": 98,
   "metadata": {},
   "outputs": [
    {
     "name": "stdout",
     "output_type": "stream",
     "text": [
      "1.5691342555492505\n"
     ]
    }
   ],
   "source": [
    "from math import sqrt\n",
    "\n",
    "def f(x):\n",
    "    return sqrt(1-x**2)\n",
    "\n",
    "N=100\n",
    "h=2/N\n",
    "I=0\n",
    "\n",
    "for i in range(1,N+1):\n",
    "    I=I+h*f(-1+h*i)\n",
    "print(I)"
   ]
  },
  {
   "cell_type": "code",
   "execution_count": null,
   "metadata": {},
   "outputs": [],
   "source": []
  }
 ],
 "metadata": {
  "kernelspec": {
   "display_name": "Python 3 (ipykernel)",
   "language": "python",
   "name": "python3"
  },
  "language_info": {
   "codemirror_mode": {
    "name": "ipython",
    "version": 3
   },
   "file_extension": ".py",
   "mimetype": "text/x-python",
   "name": "python",
   "nbconvert_exporter": "python",
   "pygments_lexer": "ipython3",
   "version": "3.9.13"
  }
 },
 "nbformat": 4,
 "nbformat_minor": 2
}
