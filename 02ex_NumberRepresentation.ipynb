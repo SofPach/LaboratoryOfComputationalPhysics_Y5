{
 "cells": [
  {
   "cell_type": "markdown",
   "metadata": {},
   "source": [
    "1\\. Write a function that converts number representation, bin<->dec<->hex. (Clearly using the corresponding python built-in functions is not fair..)"
   ]
  },
  {
   "cell_type": "code",
   "execution_count": 10,
   "metadata": {},
   "outputs": [],
   "source": [
    "def bindechex(num):\n",
    "    \n",
    "    if str(num)[1]=='b':\n",
    "        #de binario a decimal\n",
    "        k=0\n",
    "        num_d=0\n",
    "        for j in range(len(num)-1,1,-1):\n",
    "            dec=int(num[j])*(2**k)\n",
    "            num_d=num_d+dec\n",
    "            k=k+1\n",
    "        signo=(-1)**int(num[0])\n",
    "        d=signo*num_d\n",
    "        \n",
    "        #de binario a hexadecimal\n",
    "        #signo\n",
    "        if d>0:\n",
    "            signo='0'\n",
    "        else:\n",
    "            signo='1'\n",
    "            \n",
    "        anum=abs(d)\n",
    "        h=signo + 'x'\n",
    "        #numero\n",
    "        j=0\n",
    "        while (anum)//(16**j)>=1:\n",
    "            j=j+1\n",
    "        maxk=(j-1)\n",
    "\n",
    "        for k in range(maxk,-1,-1):\n",
    "            if anum//(16**k)<=16:\n",
    "                h=h+str(anum//(16**k))\n",
    "            else:\n",
    "                h=h+'0'\n",
    "            anum=anum%(16**k)\n",
    "        \n",
    "        print(num, 'is a binary number.')\n",
    "        print('Decimal representation of', num, ':', d)\n",
    "        print('Hexadecimal representation of', num, ':', h)\n",
    "        \n",
    "    elif str(num)[1]=='x':\n",
    "        #de hexadecimal a decimal\n",
    "        k=0\n",
    "        num_d=0\n",
    "        for j in range(len(num)-1,1,-1):\n",
    "            dec=int(num[j])*(16**k)\n",
    "            num_d=num_d+dec\n",
    "            k=k+1\n",
    "        signo=(-1)**int(num[0])\n",
    "        d=signo*num_d\n",
    "        \n",
    "        #de hexadecimal a binario\n",
    "        #signo\n",
    "        if d>0:\n",
    "            signo='0'\n",
    "        else:\n",
    "            signo='1'\n",
    "            \n",
    "            \n",
    "        #de decimal a binario\n",
    "        anum=abs(d)\n",
    "        b=signo+'b'\n",
    "        #numero\n",
    "        j=0\n",
    "        while (anum)//(2**j)>=1:\n",
    "            j=j+1\n",
    "        maxk=(j-1)\n",
    "        for k in range(maxk,-1,-1):\n",
    "            if anum//(2**k)==1:\n",
    "                b=b+'1'\n",
    "            else: \n",
    "                b=b+'0'\n",
    "            anum=anum%(2**k)\n",
    "        \n",
    "        print(num, 'is a hexadecimal number.')\n",
    "        print('Binary representation of', num, ':', b)\n",
    "        print('Decimal representation of', num, ':', d)\n",
    "    \n",
    "    else:\n",
    "                \n",
    "        #signo\n",
    "        if num>0:\n",
    "            signo='0'\n",
    "        else:\n",
    "            signo='1'\n",
    "            \n",
    "            \n",
    "        #de decimal a binario\n",
    "        anum=abs(num)\n",
    "        b=signo+'b'\n",
    "        #numero\n",
    "        j=0\n",
    "        while (anum)//(2**j)>=1:\n",
    "            j=j+1\n",
    "        maxk=(j-1)\n",
    "        for k in range(maxk,-1,-1):\n",
    "            if anum//(2**k)==1:\n",
    "                b=b+'1'\n",
    "            else: \n",
    "                b=b+'0'\n",
    "            anum=anum%(2**k)\n",
    "        \n",
    "        #de decimal a hexadecimal\n",
    "        anum2=abs(num)\n",
    "        h=signo + 'x'\n",
    "        #numero\n",
    "        j=0\n",
    "        while (anum2)//(16**j)>=1:\n",
    "            j=j+1\n",
    "        maxk=(j-1)\n",
    "\n",
    "        for k in range(maxk,-1,-1):\n",
    "            if anum2//(16**k)<=16:\n",
    "                h=h+str(anum2//(16**k))\n",
    "            else:\n",
    "                h=h+'0'\n",
    "            anum2=anum2%(16**k)\n",
    "        \n",
    "        print(num, 'is a decimal number.')\n",
    "        print('Hexadecimal representation of', num, ':', h)\n",
    "        print('Binary representation of', num, ':', b)"
   ]
  },
  {
   "cell_type": "code",
   "execution_count": 12,
   "metadata": {},
   "outputs": [
    {
     "name": "stdout",
     "output_type": "stream",
     "text": [
      "1x16 is a hexadecimal number.\n",
      "Binary representation of 1x16 : 1b10110\n",
      "Decimal representation of 1x16 : -22\n"
     ]
    }
   ],
   "source": [
    "bindechex('1x16')"
   ]
  },
  {
   "cell_type": "markdown",
   "metadata": {},
   "source": [
    "2\\. Write a function that converts a 32 bit word into a single precision floating point (i.e. interprets the various bits as sign, mantissa and exponent)"
   ]
  },
  {
   "cell_type": "code",
   "execution_count": null,
   "metadata": {},
   "outputs": [],
   "source": [
    "input: '10000000000000100000010101111111'\n",
    "output: "
   ]
  },
  {
   "cell_type": "code",
   "execution_count": 11,
   "metadata": {},
   "outputs": [
    {
     "data": {
      "text/plain": [
       "'00000100000010101111111'"
      ]
     },
     "execution_count": 11,
     "metadata": {},
     "output_type": "execute_result"
    }
   ],
   "source": [
    "bit32='11000000100000100000010101111111'\n",
    "exp=bit32[9:]\n",
    "exp"
   ]
  },
  {
   "cell_type": "code",
   "execution_count": 96,
   "metadata": {},
   "outputs": [],
   "source": [
    "def conver(bit32):\n",
    "    sig=bit32[0]\n",
    "    exp=bit32[1:9]\n",
    "    man=bit32[9:31]\n",
    "    \n",
    "    #exp\n",
    "    k=0\n",
    "    num_d=0\n",
    "    for j in range(len(exp)-1,-1,-1):\n",
    "        dec=int(exp[j])*(2**k)\n",
    "        num_d=num_d+dec\n",
    "        k=k+1\n",
    "    exponente=num_d-127\n",
    "    \n",
    "    #mantisa\n",
    "    mantisa=1\n",
    "    for i in range(0,len(man)):\n",
    "        mantisa=mantisa+(int(man[i])*(2**(-(i+1))))\n",
    "    \n",
    "    \n",
    "    dec=((-1)**(int(sig)))*mantisa*(2**(exponente))\n",
    "    return dec"
   ]
  },
  {
   "cell_type": "code",
   "execution_count": 97,
   "metadata": {},
   "outputs": [
    {
     "data": {
      "text/plain": [
       "1.316553672920962e-36"
      ]
     },
     "execution_count": 97,
     "metadata": {},
     "output_type": "execute_result"
    }
   ],
   "source": [
    "conver('00000011111000000000000000000000')"
   ]
  },
  {
   "cell_type": "code",
   "execution_count": 98,
   "metadata": {},
   "outputs": [
    {
     "data": {
      "text/plain": [
       "-5.5"
      ]
     },
     "execution_count": 98,
     "metadata": {},
     "output_type": "execute_result"
    }
   ],
   "source": [
    "conver('11000000101100000000000000000000')"
   ]
  },
  {
   "cell_type": "markdown",
   "metadata": {},
   "source": [
    "3\\. Write a program to determine the underflow and overflow limits (within a factor of 2) for python on your computer. \n",
    "\n",
    "**Tips**: define two variables inizialized to 1 and halve/double them enough time to exceed the under/over-flow limits  "
   ]
  },
  {
   "cell_type": "code",
   "execution_count": 138,
   "metadata": {
    "scrolled": true
   },
   "outputs": [
    {
     "name": "stdout",
     "output_type": "stream",
     "text": [
      "1076\n",
      "5e-324\n"
     ]
    }
   ],
   "source": [
    "halve=1\n",
    "k=1\n",
    "while halve!=0:\n",
    "    num=halve\n",
    "    halve=halve/2\n",
    "    k=k+1\n",
    "print(k)\n",
    "print(num)  "
   ]
  },
  {
   "cell_type": "code",
   "execution_count": 148,
   "metadata": {},
   "outputs": [
    {
     "name": "stdout",
     "output_type": "stream",
     "text": [
      "8.98846567431158e+307\n",
      "1025\n"
     ]
    }
   ],
   "source": [
    "double=1.0\n",
    "num=double/2\n",
    "k=1\n",
    "while (double/2)==(num):\n",
    "    num=double\n",
    "    double=double*2\n",
    "    k=k+1\n",
    "print(num)\n",
    "print(k)"
   ]
  },
  {
   "cell_type": "markdown",
   "metadata": {},
   "source": [
    "4\\. Write a program to determine the machine precision\n",
    "\n",
    "**Tips**: define a new variable by adding a smaller and smaller value (proceeding similarly to prob. 2) to an original variable and check the point where the two are the same "
   ]
  },
  {
   "cell_type": "code",
   "execution_count": 172,
   "metadata": {},
   "outputs": [
    {
     "name": "stdout",
     "output_type": "stream",
     "text": [
      "5.551115123125783e-17\n"
     ]
    }
   ],
   "source": [
    "num=1\n",
    "k=1\n",
    "prec=1/2\n",
    "while num!=prec:\n",
    "    prec=num\n",
    "    num= num + k/2\n",
    "    k=k/2\n",
    "    \n",
    "print(k)   "
   ]
  },
  {
   "cell_type": "code",
   "execution_count": 171,
   "metadata": {},
   "outputs": [
    {
     "name": "stdout",
     "output_type": "stream",
     "text": [
      "5.551115123125783e-17\n"
     ]
    }
   ],
   "source": [
    "fijo=1\n",
    "i=1\n",
    "variable=2\n",
    "while fijo!= variable:\n",
    "    variable=1+i\n",
    "    i=i/2\n",
    "print(i)"
   ]
  },
  {
   "cell_type": "markdown",
   "metadata": {},
   "source": [
    "5\\. Write a function that takes in input three parameters $a$, $b$ and $c$ and prints out the two solutions to the quadratic equation $ax^2+bx+c=0$ using the standard formula:\n",
    "$$\n",
    "x=\\frac{-b\\pm\\sqrt{b^2-4ac}}{2a}\n",
    "$$\n",
    "\n",
    "(a) use the program to compute the solution for $a=0.001$, $b=1000$ and $c=0.001$\n",
    "\n",
    "(b) re-express the standard solution formula by multiplying top and bottom by $-b\\mp\\sqrt{b^2-4ac}$ and again find the solution for $a=0.001$, $b=1000$ and $c=0.001$. How does it compare with what previously obtained? Why?\n",
    "\n",
    "(c) write a function that compute the roots of a quadratic equation accurately in all cases"
   ]
  },
  {
   "cell_type": "code",
   "execution_count": 189,
   "metadata": {},
   "outputs": [],
   "source": [
    "#a\n",
    "\n",
    "import numpy as np\n",
    "def quad(a,b,c):\n",
    "    x1=(-b+np.sqrt(b**2-(4*a*c)))/(2*a)\n",
    "    x2=(-b-np.sqrt(b**2-(4*a*c)))/(2*a)\n",
    "    return x1, x2"
   ]
  },
  {
   "cell_type": "code",
   "execution_count": 190,
   "metadata": {},
   "outputs": [
    {
     "data": {
      "text/plain": [
       "(-9.999894245993346e-07, -999999.999999)"
      ]
     },
     "execution_count": 190,
     "metadata": {},
     "output_type": "execute_result"
    }
   ],
   "source": [
    "quad(0.001,1000,0.001)"
   ]
  },
  {
   "cell_type": "code",
   "execution_count": 191,
   "metadata": {},
   "outputs": [],
   "source": [
    "#b\n",
    "\n",
    "def quad2(a,b,c):\n",
    "    x1=((-b+np.sqrt(b**2-(4*a*c)))*(-b-np.sqrt(b**2-(4*a*c))))/(2*a*(-b-np.sqrt(b**2-(4*a*c))))\n",
    "    x2=((-b-np.sqrt(b**2-(4*a*c)))*(-b+np.sqrt(b**2-(4*a*c))))/(2*a*(-b+np.sqrt(b**2-(4*a*c))))\n",
    "    return x1, x2"
   ]
  },
  {
   "cell_type": "code",
   "execution_count": 192,
   "metadata": {},
   "outputs": [
    {
     "data": {
      "text/plain": [
       "(-9.999894245993346e-07, -999999.9999990001)"
      ]
     },
     "execution_count": 192,
     "metadata": {},
     "output_type": "execute_result"
    }
   ],
   "source": [
    "quad2(0.001,1000,0.001)"
   ]
  },
  {
   "cell_type": "code",
   "execution_count": 195,
   "metadata": {},
   "outputs": [
    {
     "data": {
      "text/plain": [
       "0.0"
      ]
     },
     "execution_count": 195,
     "metadata": {},
     "output_type": "execute_result"
    }
   ],
   "source": [
    "quad2(0.001,1000,0.001)[0]-quad(0.001,1000,0.001)[0]"
   ]
  },
  {
   "cell_type": "code",
   "execution_count": 196,
   "metadata": {},
   "outputs": [
    {
     "data": {
      "text/plain": [
       "-1.1641532182693481e-10"
      ]
     },
     "execution_count": 196,
     "metadata": {},
     "output_type": "execute_result"
    }
   ],
   "source": [
    "quad2(0.001,1000,0.001)[1]-quad(0.001,1000,0.001)[1]"
   ]
  },
  {
   "cell_type": "code",
   "execution_count": null,
   "metadata": {},
   "outputs": [],
   "source": [
    "#c"
   ]
  },
  {
   "cell_type": "markdown",
   "metadata": {},
   "source": [
    "6\\. Write a program that implements the function $f(x)=x(x−1)$\n",
    "\n",
    "(a) Calculate the derivative of the function at the point $x = 1$ using the derivative definition:\n",
    "\n",
    "$$\n",
    "\\frac{{\\rm d}f}{{\\rm d}x} = \\lim_{\\delta\\to0} \\frac{f(x+\\delta)-f(x)}{\\delta}\n",
    "$$\n",
    "\n",
    "with $\\delta = 10^{−2}$. Calculate the true value of the same derivative analytically and compare with the answer your program gives. The two will not agree perfectly. Why not?\n",
    "\n",
    "(b) Repeat the calculation for $\\delta = 10^{−4}, 10^{−6}, 10^{−8}, 10^{−10}, 10^{−12}$ and $10^{−14}$. How does the accuracy scales with $\\delta$?"
   ]
  },
  {
   "cell_type": "code",
   "execution_count": null,
   "metadata": {},
   "outputs": [],
   "source": []
  },
  {
   "cell_type": "markdown",
   "metadata": {},
   "source": [
    "7\\. Consider the integral of the semicircle of radius 1:\n",
    "$$\n",
    "I=\\int_{-1}^{1} \\sqrt(1-x^2) {\\rm d}x\n",
    "$$\n",
    "which it's known to be $I=\\frac{\\pi}{2}=1.57079632679...$.\n",
    "Alternatively we can use the Riemann definition of the integral:\n",
    "$$\n",
    "I=\\lim_{N\\to\\infty} \\sum_{k=1}^{N} h y_k \n",
    "$$\n",
    "\n",
    "with $h=2/N$ the width of each of the $N$ slices the domain is divided into and where\n",
    "$y_k$ is the value of the function at the $k-$th slice.\n",
    "\n",
    "(a) Write a programe to compute the integral with $N=100$. How does the result compares to the true value?\n",
    "\n",
    "(b) How much can $N$ be increased if the computation needs to be run in less than a second? What is the gain in running it for 1 minute? \n"
   ]
  },
  {
   "cell_type": "code",
   "execution_count": null,
   "metadata": {},
   "outputs": [],
   "source": []
  }
 ],
 "metadata": {
  "kernelspec": {
   "display_name": "Python 3 (ipykernel)",
   "language": "python",
   "name": "python3"
  },
  "language_info": {
   "codemirror_mode": {
    "name": "ipython",
    "version": 3
   },
   "file_extension": ".py",
   "mimetype": "text/x-python",
   "name": "python",
   "nbconvert_exporter": "python",
   "pygments_lexer": "ipython3",
   "version": "3.9.13"
  }
 },
 "nbformat": 4,
 "nbformat_minor": 2
}
